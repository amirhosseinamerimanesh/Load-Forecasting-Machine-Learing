{
  "nbformat": 4,
  "nbformat_minor": 0,
  "metadata": {
    "colab": {
      "provenance": [],
      "include_colab_link": true
    },
    "kernelspec": {
      "name": "python3",
      "display_name": "Python 3"
    },
    "language_info": {
      "name": "python"
    }
  },
  "cells": [
    {
      "cell_type": "markdown",
      "metadata": {
        "id": "view-in-github",
        "colab_type": "text"
      },
      "source": [
        "<a href=\"https://colab.research.google.com/github/shahriarivari/Load-Forecasting-Machine-Learing/blob/main/load_forecasting_ml.ipynb\" target=\"_parent\"><img src=\"https://colab.research.google.com/assets/colab-badge.svg\" alt=\"Open In Colab\"/></a>"
      ]
    },
    {
      "cell_type": "markdown",
      "source": [
        "### installing libraries"
      ],
      "metadata": {
        "id": "VWcrWp5n8m1V"
      }
    },
    {
      "cell_type": "code",
      "execution_count": 34,
      "metadata": {
        "colab": {
          "base_uri": "https://localhost:8080/"
        },
        "id": "kj5GfFKY8TW4",
        "outputId": "47a3fc0b-c4a7-47e2-fd0b-c229f7ee7c3f"
      },
      "outputs": [
        {
          "output_type": "stream",
          "name": "stdout",
          "text": [
            "Requirement already satisfied: jdatetime in /usr/local/lib/python3.10/dist-packages (4.1.1)\n",
            "Collecting scikit-optimize\n",
            "  Downloading scikit_optimize-0.9.0-py2.py3-none-any.whl (100 kB)\n",
            "\u001b[2K     \u001b[90m━━━━━━━━━━━━━━━━━━━━━━━━━━━━━━━━━━━━━━━━\u001b[0m \u001b[32m100.3/100.3 kB\u001b[0m \u001b[31m2.8 MB/s\u001b[0m eta \u001b[36m0:00:00\u001b[0m\n",
            "\u001b[?25hRequirement already satisfied: joblib>=0.11 in /usr/local/lib/python3.10/dist-packages (from scikit-optimize) (1.3.2)\n",
            "Collecting pyaml>=16.9 (from scikit-optimize)\n",
            "  Downloading pyaml-23.9.7-py3-none-any.whl (23 kB)\n",
            "Requirement already satisfied: numpy>=1.13.3 in /usr/local/lib/python3.10/dist-packages (from scikit-optimize) (1.23.5)\n",
            "Requirement already satisfied: scipy>=0.19.1 in /usr/local/lib/python3.10/dist-packages (from scikit-optimize) (1.11.3)\n",
            "Requirement already satisfied: scikit-learn>=0.20.0 in /usr/local/lib/python3.10/dist-packages (from scikit-optimize) (1.2.2)\n",
            "Requirement already satisfied: PyYAML in /usr/local/lib/python3.10/dist-packages (from pyaml>=16.9->scikit-optimize) (6.0.1)\n",
            "Requirement already satisfied: threadpoolctl>=2.0.0 in /usr/local/lib/python3.10/dist-packages (from scikit-learn>=0.20.0->scikit-optimize) (3.2.0)\n",
            "Installing collected packages: pyaml, scikit-optimize\n",
            "Successfully installed pyaml-23.9.7 scikit-optimize-0.9.0\n",
            "Collecting bayesian-optimization\n",
            "  Downloading bayesian_optimization-1.4.3-py3-none-any.whl (18 kB)\n",
            "Requirement already satisfied: numpy>=1.9.0 in /usr/local/lib/python3.10/dist-packages (from bayesian-optimization) (1.23.5)\n",
            "Requirement already satisfied: scipy>=1.0.0 in /usr/local/lib/python3.10/dist-packages (from bayesian-optimization) (1.11.3)\n",
            "Requirement already satisfied: scikit-learn>=0.18.0 in /usr/local/lib/python3.10/dist-packages (from bayesian-optimization) (1.2.2)\n",
            "Collecting colorama>=0.4.6 (from bayesian-optimization)\n",
            "  Downloading colorama-0.4.6-py2.py3-none-any.whl (25 kB)\n",
            "Requirement already satisfied: joblib>=1.1.1 in /usr/local/lib/python3.10/dist-packages (from scikit-learn>=0.18.0->bayesian-optimization) (1.3.2)\n",
            "Requirement already satisfied: threadpoolctl>=2.0.0 in /usr/local/lib/python3.10/dist-packages (from scikit-learn>=0.18.0->bayesian-optimization) (3.2.0)\n",
            "Installing collected packages: colorama, bayesian-optimization\n",
            "Successfully installed bayesian-optimization-1.4.3 colorama-0.4.6\n"
          ]
        }
      ],
      "source": [
        "# installing jdatetime for converting date to Gregotian\n",
        "# !pip install scikit-learn\n",
        "# !pip install matplotlib\n",
        "!pip install jdatetime\n",
        "!pip install scikit-optimize\n",
        "!pip install bayesian-optimization"
      ]
    },
    {
      "cell_type": "markdown",
      "source": [
        "# data manipulation\n",
        "\n",
        "inculding: 1-becoming one with data, 2-feature engieering, and 3-preprocessing"
      ],
      "metadata": {
        "id": "YeV8fJBy86QB"
      }
    },
    {
      "cell_type": "code",
      "source": [
        "import pandas as pd # to import the excel file\n",
        "import numpy as np  # to deal with numbers\n",
        "import jdatetime    # to convert Jalali datatime to Gregorian"
      ],
      "metadata": {
        "id": "hbSN9RVq83sS"
      },
      "execution_count": 2,
      "outputs": []
    },
    {
      "cell_type": "code",
      "source": [
        "## importing data\n",
        "data_df = pd.read_excel(\"consumption.xlsx\")\n",
        "temp_df = pd.read_csv(\"temperature.csv\")"
      ],
      "metadata": {
        "id": "gpMagMZP98fI"
      },
      "execution_count": 19,
      "outputs": []
    },
    {
      "cell_type": "code",
      "source": [
        "# Apply the conversion directly using a lambda function\n",
        "data_df['date'] = data_df['date'].apply(lambda x: jdatetime.datetime.strptime(x, '%Y/%m/%d').togregorian().strftime('%Y-%m-%d'))\n",
        "data_df.rename(columns={\"date\": \"time\"}, inplace=True)"
      ],
      "metadata": {
        "id": "yDR7oNLp-Ejd"
      },
      "execution_count": 20,
      "outputs": []
    },
    {
      "cell_type": "code",
      "source": [
        "# making the dataframe into a column vector of time and values\n",
        "# we make to lists of hours and their repective values and then concatenate them\n",
        "time_hourly = []\n",
        "values_hourly = []\n",
        "list_of_hours = [int(col) for col in data_df.columns[1:]]\n",
        "for i in range(len(data_df[\"time\"])):\n",
        "    time = pd.to_datetime(data_df['time'][i], format='%Y-%m-%d') + pd.to_timedelta(list_of_hours, unit='h').values\n",
        "    values = data_df.loc[i][1:].values\n",
        "    time_hourly.append(time)\n",
        "    values_hourly.append(values)"
      ],
      "metadata": {
        "id": "SbDKlvyL-kpG"
      },
      "execution_count": 23,
      "outputs": []
    },
    {
      "cell_type": "code",
      "source": [
        "time_concatenated = np.concatenate(time_hourly)\n",
        "values_concatenated = np.concatenate(values_hourly)"
      ],
      "metadata": {
        "id": "rVofroj1_Bj_"
      },
      "execution_count": 24,
      "outputs": []
    },
    {
      "cell_type": "code",
      "source": [
        "# and now we make the new df\n",
        "new_df = pd.DataFrame({\"time\": time_concatenated, \"values\": values_concatenated})\n",
        "temp_df[\"time\"] = pd.to_datetime(temp_df['time'], format='%Y-%m-%d')\n",
        "# new_df.index = pd.to_datetime(new_df['time'], format='%d.%m.%Y %H:%M:%S')\n",
        "# new_df.drop(columns=\"time\",inplace=True)\n",
        "print(f\" changed the data frame from {data_df.shape} to {new_df.shape} \")"
      ],
      "metadata": {
        "colab": {
          "base_uri": "https://localhost:8080/"
        },
        "id": "6xFQF90E_h9R",
        "outputId": "1b8e962c-993e-48e7-af9d-dc61c6c901cf"
      },
      "execution_count": 25,
      "outputs": [
        {
          "output_type": "stream",
          "name": "stdout",
          "text": [
            " changed the data frame from (730, 25) to (17520, 2) \n"
          ]
        }
      ]
    },
    {
      "cell_type": "code",
      "source": [
        "# Concatenate based on the 'Time' column\n",
        "concat_df = pd.concat([new_df.set_index('time'), temp_df.set_index('time')], axis=1, join='inner')\n",
        "# Reset the index to make 'Time' a column again\n",
        "concat_df.reset_index(inplace=True)\n",
        "concat_df.head(2)"
      ],
      "metadata": {
        "colab": {
          "base_uri": "https://localhost:8080/",
          "height": 112
        },
        "id": "shWoduE6qYJg",
        "outputId": "1aaceadc-2b0f-4087-ffa6-3472e7bb9218"
      },
      "execution_count": 26,
      "outputs": [
        {
          "output_type": "execute_result",
          "data": {
            "text/plain": [
              "                 time      values  temp\n",
              "0 2021-03-21 01:00:00  683.189471   6.7\n",
              "1 2021-03-21 02:00:00  627.645948   6.1"
            ],
            "text/html": [
              "\n",
              "  <div id=\"df-5d35fecc-f27a-4bd1-b8bf-2cf17cced111\" class=\"colab-df-container\">\n",
              "    <div>\n",
              "<style scoped>\n",
              "    .dataframe tbody tr th:only-of-type {\n",
              "        vertical-align: middle;\n",
              "    }\n",
              "\n",
              "    .dataframe tbody tr th {\n",
              "        vertical-align: top;\n",
              "    }\n",
              "\n",
              "    .dataframe thead th {\n",
              "        text-align: right;\n",
              "    }\n",
              "</style>\n",
              "<table border=\"1\" class=\"dataframe\">\n",
              "  <thead>\n",
              "    <tr style=\"text-align: right;\">\n",
              "      <th></th>\n",
              "      <th>time</th>\n",
              "      <th>values</th>\n",
              "      <th>temp</th>\n",
              "    </tr>\n",
              "  </thead>\n",
              "  <tbody>\n",
              "    <tr>\n",
              "      <th>0</th>\n",
              "      <td>2021-03-21 01:00:00</td>\n",
              "      <td>683.189471</td>\n",
              "      <td>6.7</td>\n",
              "    </tr>\n",
              "    <tr>\n",
              "      <th>1</th>\n",
              "      <td>2021-03-21 02:00:00</td>\n",
              "      <td>627.645948</td>\n",
              "      <td>6.1</td>\n",
              "    </tr>\n",
              "  </tbody>\n",
              "</table>\n",
              "</div>\n",
              "    <div class=\"colab-df-buttons\">\n",
              "\n",
              "  <div class=\"colab-df-container\">\n",
              "    <button class=\"colab-df-convert\" onclick=\"convertToInteractive('df-5d35fecc-f27a-4bd1-b8bf-2cf17cced111')\"\n",
              "            title=\"Convert this dataframe to an interactive table.\"\n",
              "            style=\"display:none;\">\n",
              "\n",
              "  <svg xmlns=\"http://www.w3.org/2000/svg\" height=\"24px\" viewBox=\"0 -960 960 960\">\n",
              "    <path d=\"M120-120v-720h720v720H120Zm60-500h600v-160H180v160Zm220 220h160v-160H400v160Zm0 220h160v-160H400v160ZM180-400h160v-160H180v160Zm440 0h160v-160H620v160ZM180-180h160v-160H180v160Zm440 0h160v-160H620v160Z\"/>\n",
              "  </svg>\n",
              "    </button>\n",
              "\n",
              "  <style>\n",
              "    .colab-df-container {\n",
              "      display:flex;\n",
              "      gap: 12px;\n",
              "    }\n",
              "\n",
              "    .colab-df-convert {\n",
              "      background-color: #E8F0FE;\n",
              "      border: none;\n",
              "      border-radius: 50%;\n",
              "      cursor: pointer;\n",
              "      display: none;\n",
              "      fill: #1967D2;\n",
              "      height: 32px;\n",
              "      padding: 0 0 0 0;\n",
              "      width: 32px;\n",
              "    }\n",
              "\n",
              "    .colab-df-convert:hover {\n",
              "      background-color: #E2EBFA;\n",
              "      box-shadow: 0px 1px 2px rgba(60, 64, 67, 0.3), 0px 1px 3px 1px rgba(60, 64, 67, 0.15);\n",
              "      fill: #174EA6;\n",
              "    }\n",
              "\n",
              "    .colab-df-buttons div {\n",
              "      margin-bottom: 4px;\n",
              "    }\n",
              "\n",
              "    [theme=dark] .colab-df-convert {\n",
              "      background-color: #3B4455;\n",
              "      fill: #D2E3FC;\n",
              "    }\n",
              "\n",
              "    [theme=dark] .colab-df-convert:hover {\n",
              "      background-color: #434B5C;\n",
              "      box-shadow: 0px 1px 3px 1px rgba(0, 0, 0, 0.15);\n",
              "      filter: drop-shadow(0px 1px 2px rgba(0, 0, 0, 0.3));\n",
              "      fill: #FFFFFF;\n",
              "    }\n",
              "  </style>\n",
              "\n",
              "    <script>\n",
              "      const buttonEl =\n",
              "        document.querySelector('#df-5d35fecc-f27a-4bd1-b8bf-2cf17cced111 button.colab-df-convert');\n",
              "      buttonEl.style.display =\n",
              "        google.colab.kernel.accessAllowed ? 'block' : 'none';\n",
              "\n",
              "      async function convertToInteractive(key) {\n",
              "        const element = document.querySelector('#df-5d35fecc-f27a-4bd1-b8bf-2cf17cced111');\n",
              "        const dataTable =\n",
              "          await google.colab.kernel.invokeFunction('convertToInteractive',\n",
              "                                                    [key], {});\n",
              "        if (!dataTable) return;\n",
              "\n",
              "        const docLinkHtml = 'Like what you see? Visit the ' +\n",
              "          '<a target=\"_blank\" href=https://colab.research.google.com/notebooks/data_table.ipynb>data table notebook</a>'\n",
              "          + ' to learn more about interactive tables.';\n",
              "        element.innerHTML = '';\n",
              "        dataTable['output_type'] = 'display_data';\n",
              "        await google.colab.output.renderOutput(dataTable, element);\n",
              "        const docLink = document.createElement('div');\n",
              "        docLink.innerHTML = docLinkHtml;\n",
              "        element.appendChild(docLink);\n",
              "      }\n",
              "    </script>\n",
              "  </div>\n",
              "\n",
              "\n",
              "<div id=\"df-ba335fc0-470a-4dcd-a483-2c91364436c3\">\n",
              "  <button class=\"colab-df-quickchart\" onclick=\"quickchart('df-ba335fc0-470a-4dcd-a483-2c91364436c3')\"\n",
              "            title=\"Suggest charts.\"\n",
              "            style=\"display:none;\">\n",
              "\n",
              "<svg xmlns=\"http://www.w3.org/2000/svg\" height=\"24px\"viewBox=\"0 0 24 24\"\n",
              "     width=\"24px\">\n",
              "    <g>\n",
              "        <path d=\"M19 3H5c-1.1 0-2 .9-2 2v14c0 1.1.9 2 2 2h14c1.1 0 2-.9 2-2V5c0-1.1-.9-2-2-2zM9 17H7v-7h2v7zm4 0h-2V7h2v10zm4 0h-2v-4h2v4z\"/>\n",
              "    </g>\n",
              "</svg>\n",
              "  </button>\n",
              "\n",
              "<style>\n",
              "  .colab-df-quickchart {\n",
              "      --bg-color: #E8F0FE;\n",
              "      --fill-color: #1967D2;\n",
              "      --hover-bg-color: #E2EBFA;\n",
              "      --hover-fill-color: #174EA6;\n",
              "      --disabled-fill-color: #AAA;\n",
              "      --disabled-bg-color: #DDD;\n",
              "  }\n",
              "\n",
              "  [theme=dark] .colab-df-quickchart {\n",
              "      --bg-color: #3B4455;\n",
              "      --fill-color: #D2E3FC;\n",
              "      --hover-bg-color: #434B5C;\n",
              "      --hover-fill-color: #FFFFFF;\n",
              "      --disabled-bg-color: #3B4455;\n",
              "      --disabled-fill-color: #666;\n",
              "  }\n",
              "\n",
              "  .colab-df-quickchart {\n",
              "    background-color: var(--bg-color);\n",
              "    border: none;\n",
              "    border-radius: 50%;\n",
              "    cursor: pointer;\n",
              "    display: none;\n",
              "    fill: var(--fill-color);\n",
              "    height: 32px;\n",
              "    padding: 0;\n",
              "    width: 32px;\n",
              "  }\n",
              "\n",
              "  .colab-df-quickchart:hover {\n",
              "    background-color: var(--hover-bg-color);\n",
              "    box-shadow: 0 1px 2px rgba(60, 64, 67, 0.3), 0 1px 3px 1px rgba(60, 64, 67, 0.15);\n",
              "    fill: var(--button-hover-fill-color);\n",
              "  }\n",
              "\n",
              "  .colab-df-quickchart-complete:disabled,\n",
              "  .colab-df-quickchart-complete:disabled:hover {\n",
              "    background-color: var(--disabled-bg-color);\n",
              "    fill: var(--disabled-fill-color);\n",
              "    box-shadow: none;\n",
              "  }\n",
              "\n",
              "  .colab-df-spinner {\n",
              "    border: 2px solid var(--fill-color);\n",
              "    border-color: transparent;\n",
              "    border-bottom-color: var(--fill-color);\n",
              "    animation:\n",
              "      spin 1s steps(1) infinite;\n",
              "  }\n",
              "\n",
              "  @keyframes spin {\n",
              "    0% {\n",
              "      border-color: transparent;\n",
              "      border-bottom-color: var(--fill-color);\n",
              "      border-left-color: var(--fill-color);\n",
              "    }\n",
              "    20% {\n",
              "      border-color: transparent;\n",
              "      border-left-color: var(--fill-color);\n",
              "      border-top-color: var(--fill-color);\n",
              "    }\n",
              "    30% {\n",
              "      border-color: transparent;\n",
              "      border-left-color: var(--fill-color);\n",
              "      border-top-color: var(--fill-color);\n",
              "      border-right-color: var(--fill-color);\n",
              "    }\n",
              "    40% {\n",
              "      border-color: transparent;\n",
              "      border-right-color: var(--fill-color);\n",
              "      border-top-color: var(--fill-color);\n",
              "    }\n",
              "    60% {\n",
              "      border-color: transparent;\n",
              "      border-right-color: var(--fill-color);\n",
              "    }\n",
              "    80% {\n",
              "      border-color: transparent;\n",
              "      border-right-color: var(--fill-color);\n",
              "      border-bottom-color: var(--fill-color);\n",
              "    }\n",
              "    90% {\n",
              "      border-color: transparent;\n",
              "      border-bottom-color: var(--fill-color);\n",
              "    }\n",
              "  }\n",
              "</style>\n",
              "\n",
              "  <script>\n",
              "    async function quickchart(key) {\n",
              "      const quickchartButtonEl =\n",
              "        document.querySelector('#' + key + ' button');\n",
              "      quickchartButtonEl.disabled = true;  // To prevent multiple clicks.\n",
              "      quickchartButtonEl.classList.add('colab-df-spinner');\n",
              "      try {\n",
              "        const charts = await google.colab.kernel.invokeFunction(\n",
              "            'suggestCharts', [key], {});\n",
              "      } catch (error) {\n",
              "        console.error('Error during call to suggestCharts:', error);\n",
              "      }\n",
              "      quickchartButtonEl.classList.remove('colab-df-spinner');\n",
              "      quickchartButtonEl.classList.add('colab-df-quickchart-complete');\n",
              "    }\n",
              "    (() => {\n",
              "      let quickchartButtonEl =\n",
              "        document.querySelector('#df-ba335fc0-470a-4dcd-a483-2c91364436c3 button');\n",
              "      quickchartButtonEl.style.display =\n",
              "        google.colab.kernel.accessAllowed ? 'block' : 'none';\n",
              "    })();\n",
              "  </script>\n",
              "</div>\n",
              "    </div>\n",
              "  </div>\n"
            ]
          },
          "metadata": {},
          "execution_count": 26
        }
      ]
    },
    {
      "cell_type": "code",
      "source": [
        "concat_df[\"time\"]"
      ],
      "metadata": {
        "colab": {
          "base_uri": "https://localhost:8080/"
        },
        "id": "YPqIQ-uNrJuA",
        "outputId": "40aacd0e-08a2-40a2-9098-f207175ba13e"
      },
      "execution_count": 27,
      "outputs": [
        {
          "output_type": "execute_result",
          "data": {
            "text/plain": [
              "0       2021-03-21 01:00:00\n",
              "1       2021-03-21 02:00:00\n",
              "2       2021-03-21 03:00:00\n",
              "3       2021-03-21 04:00:00\n",
              "4       2021-03-21 05:00:00\n",
              "                ...        \n",
              "17514   2023-03-20 19:00:00\n",
              "17515   2023-03-20 20:00:00\n",
              "17516   2023-03-20 21:00:00\n",
              "17517   2023-03-20 22:00:00\n",
              "17518   2023-03-20 23:00:00\n",
              "Name: time, Length: 17519, dtype: datetime64[ns]"
            ]
          },
          "metadata": {},
          "execution_count": 27
        }
      ]
    },
    {
      "cell_type": "code",
      "source": [
        "# addding mutiple columns using the \"time\" col\n",
        "concat_df[\"week_day\"] = concat_df[\"time\"].dt.weekday\n",
        "concat_df[\"day\"] = concat_df[\"time\"].dt.day\n",
        "concat_df['month'] = concat_df[\"time\"].dt.month\n",
        "concat_df[\"hour\"] = concat_df[\"time\"].dt.hour\n",
        "\n",
        "# extracting features\n",
        "concat_df['up_of_month']=(concat_df['day']<=10).astype(int)\n",
        "concat_df['down_of_month']=(concat_df['day']>20).astype(int)\n",
        "concat_df['sin_day']=np.sin(2*np.pi*concat_df['day']/30)\n",
        "concat_df['cos_day']=np.cos(2*np.pi*concat_df['day']/30)\n",
        "\n",
        "concat_df['morning']=((concat_df['hour']>5)&(concat_df['hour']<=12)).astype(int)\n",
        "concat_df['afternoon']=((concat_df['hour']>12)&(concat_df['hour']<=19)).astype(int)\n",
        "concat_df['evening']=(1-concat_df['morning']-concat_df['afternoon']).astype(int)\n",
        "\n",
        "#  whether its thursday | friday or not\n",
        "concat_df['weekend'] = ((concat_df[\"week_day\"] == 4) | (concat_df[\"week_day\"] == 3)).astype(int)\n",
        "concat_df['time_slot'] = pd.cut(concat_df[\"hour\"], bins=[0, 6, 12, 18, 24], labels=[1, 2, 3, 4], right=False)\n",
        "concat_df['peak_load'] = ((concat_df[\"hour\"] >= 11) & (concat_df[\"hour\"] <= 15)).astype(int)\n",
        "\n",
        "concat_df['spring']=((concat_df['month']>=3)&(concat_df['month']<=5)).astype(int)\n",
        "concat_df['summer']=((concat_df['month']>=6)&(concat_df['month']<=8)).astype(int)\n",
        "concat_df['fall']=((concat_df['month']>=9)&(concat_df['month']<=11)).astype(int)\n",
        "concat_df['winter']=((concat_df['month']==12)&(concat_df['month']<=2)).astype(int)\n",
        "\n",
        "# adding the mean of the past 4 \"values\" for each row\n",
        "previous_four_mean = np.array(concat_df[\"values\"][0:4].values).astype(np.float32)\n",
        "for i in range(4,len(concat_df)):\n",
        "  previous_four_mean = np.append(previous_four_mean, concat_df[\"values\"][i-4:i].values.mean()).astype(np.float32)\n",
        "concat_df[\"four_mean\"] = previous_four_mean\n",
        "\n",
        "# dropping non-informative columns\n",
        "concat_df.drop( [\"day\", \"week_day\", \"month\",\"hour\"] , axis = 1, inplace = True)\n",
        "concat_df.head(5)"
      ],
      "metadata": {
        "colab": {
          "base_uri": "https://localhost:8080/",
          "height": 206
        },
        "id": "yKJavo3COpOG",
        "outputId": "809e70f8-01c8-4f12-83c6-ad70cc1268a1"
      },
      "execution_count": 28,
      "outputs": [
        {
          "output_type": "execute_result",
          "data": {
            "text/plain": [
              "                 time      values  temp  up_of_month  down_of_month   sin_day  \\\n",
              "0 2021-03-21 01:00:00  683.189471   6.7            0              1 -0.951057   \n",
              "1 2021-03-21 02:00:00  627.645948   6.1            0              1 -0.951057   \n",
              "2 2021-03-21 03:00:00  593.313848   4.2            0              1 -0.951057   \n",
              "3 2021-03-21 04:00:00  575.394891   3.9            0              1 -0.951057   \n",
              "4 2021-03-21 05:00:00  569.464668   3.3            0              1 -0.951057   \n",
              "\n",
              "    cos_day  morning  afternoon  evening  weekend time_slot  peak_load  \\\n",
              "0 -0.309017        0          0        1        0         1          0   \n",
              "1 -0.309017        0          0        1        0         1          0   \n",
              "2 -0.309017        0          0        1        0         1          0   \n",
              "3 -0.309017        0          0        1        0         1          0   \n",
              "4 -0.309017        0          0        1        0         1          0   \n",
              "\n",
              "   spring  summer  fall  winter   four_mean  \n",
              "0       1       0     0       0  683.189453  \n",
              "1       1       0     0       0  627.645935  \n",
              "2       1       0     0       0  593.313843  \n",
              "3       1       0     0       0  575.394897  \n",
              "4       1       0     0       0  619.886047  "
            ],
            "text/html": [
              "\n",
              "  <div id=\"df-dbe66f3d-f647-4d73-b2ba-5b6c0d5340bf\" class=\"colab-df-container\">\n",
              "    <div>\n",
              "<style scoped>\n",
              "    .dataframe tbody tr th:only-of-type {\n",
              "        vertical-align: middle;\n",
              "    }\n",
              "\n",
              "    .dataframe tbody tr th {\n",
              "        vertical-align: top;\n",
              "    }\n",
              "\n",
              "    .dataframe thead th {\n",
              "        text-align: right;\n",
              "    }\n",
              "</style>\n",
              "<table border=\"1\" class=\"dataframe\">\n",
              "  <thead>\n",
              "    <tr style=\"text-align: right;\">\n",
              "      <th></th>\n",
              "      <th>time</th>\n",
              "      <th>values</th>\n",
              "      <th>temp</th>\n",
              "      <th>up_of_month</th>\n",
              "      <th>down_of_month</th>\n",
              "      <th>sin_day</th>\n",
              "      <th>cos_day</th>\n",
              "      <th>morning</th>\n",
              "      <th>afternoon</th>\n",
              "      <th>evening</th>\n",
              "      <th>weekend</th>\n",
              "      <th>time_slot</th>\n",
              "      <th>peak_load</th>\n",
              "      <th>spring</th>\n",
              "      <th>summer</th>\n",
              "      <th>fall</th>\n",
              "      <th>winter</th>\n",
              "      <th>four_mean</th>\n",
              "    </tr>\n",
              "  </thead>\n",
              "  <tbody>\n",
              "    <tr>\n",
              "      <th>0</th>\n",
              "      <td>2021-03-21 01:00:00</td>\n",
              "      <td>683.189471</td>\n",
              "      <td>6.7</td>\n",
              "      <td>0</td>\n",
              "      <td>1</td>\n",
              "      <td>-0.951057</td>\n",
              "      <td>-0.309017</td>\n",
              "      <td>0</td>\n",
              "      <td>0</td>\n",
              "      <td>1</td>\n",
              "      <td>0</td>\n",
              "      <td>1</td>\n",
              "      <td>0</td>\n",
              "      <td>1</td>\n",
              "      <td>0</td>\n",
              "      <td>0</td>\n",
              "      <td>0</td>\n",
              "      <td>683.189453</td>\n",
              "    </tr>\n",
              "    <tr>\n",
              "      <th>1</th>\n",
              "      <td>2021-03-21 02:00:00</td>\n",
              "      <td>627.645948</td>\n",
              "      <td>6.1</td>\n",
              "      <td>0</td>\n",
              "      <td>1</td>\n",
              "      <td>-0.951057</td>\n",
              "      <td>-0.309017</td>\n",
              "      <td>0</td>\n",
              "      <td>0</td>\n",
              "      <td>1</td>\n",
              "      <td>0</td>\n",
              "      <td>1</td>\n",
              "      <td>0</td>\n",
              "      <td>1</td>\n",
              "      <td>0</td>\n",
              "      <td>0</td>\n",
              "      <td>0</td>\n",
              "      <td>627.645935</td>\n",
              "    </tr>\n",
              "    <tr>\n",
              "      <th>2</th>\n",
              "      <td>2021-03-21 03:00:00</td>\n",
              "      <td>593.313848</td>\n",
              "      <td>4.2</td>\n",
              "      <td>0</td>\n",
              "      <td>1</td>\n",
              "      <td>-0.951057</td>\n",
              "      <td>-0.309017</td>\n",
              "      <td>0</td>\n",
              "      <td>0</td>\n",
              "      <td>1</td>\n",
              "      <td>0</td>\n",
              "      <td>1</td>\n",
              "      <td>0</td>\n",
              "      <td>1</td>\n",
              "      <td>0</td>\n",
              "      <td>0</td>\n",
              "      <td>0</td>\n",
              "      <td>593.313843</td>\n",
              "    </tr>\n",
              "    <tr>\n",
              "      <th>3</th>\n",
              "      <td>2021-03-21 04:00:00</td>\n",
              "      <td>575.394891</td>\n",
              "      <td>3.9</td>\n",
              "      <td>0</td>\n",
              "      <td>1</td>\n",
              "      <td>-0.951057</td>\n",
              "      <td>-0.309017</td>\n",
              "      <td>0</td>\n",
              "      <td>0</td>\n",
              "      <td>1</td>\n",
              "      <td>0</td>\n",
              "      <td>1</td>\n",
              "      <td>0</td>\n",
              "      <td>1</td>\n",
              "      <td>0</td>\n",
              "      <td>0</td>\n",
              "      <td>0</td>\n",
              "      <td>575.394897</td>\n",
              "    </tr>\n",
              "    <tr>\n",
              "      <th>4</th>\n",
              "      <td>2021-03-21 05:00:00</td>\n",
              "      <td>569.464668</td>\n",
              "      <td>3.3</td>\n",
              "      <td>0</td>\n",
              "      <td>1</td>\n",
              "      <td>-0.951057</td>\n",
              "      <td>-0.309017</td>\n",
              "      <td>0</td>\n",
              "      <td>0</td>\n",
              "      <td>1</td>\n",
              "      <td>0</td>\n",
              "      <td>1</td>\n",
              "      <td>0</td>\n",
              "      <td>1</td>\n",
              "      <td>0</td>\n",
              "      <td>0</td>\n",
              "      <td>0</td>\n",
              "      <td>619.886047</td>\n",
              "    </tr>\n",
              "  </tbody>\n",
              "</table>\n",
              "</div>\n",
              "    <div class=\"colab-df-buttons\">\n",
              "\n",
              "  <div class=\"colab-df-container\">\n",
              "    <button class=\"colab-df-convert\" onclick=\"convertToInteractive('df-dbe66f3d-f647-4d73-b2ba-5b6c0d5340bf')\"\n",
              "            title=\"Convert this dataframe to an interactive table.\"\n",
              "            style=\"display:none;\">\n",
              "\n",
              "  <svg xmlns=\"http://www.w3.org/2000/svg\" height=\"24px\" viewBox=\"0 -960 960 960\">\n",
              "    <path d=\"M120-120v-720h720v720H120Zm60-500h600v-160H180v160Zm220 220h160v-160H400v160Zm0 220h160v-160H400v160ZM180-400h160v-160H180v160Zm440 0h160v-160H620v160ZM180-180h160v-160H180v160Zm440 0h160v-160H620v160Z\"/>\n",
              "  </svg>\n",
              "    </button>\n",
              "\n",
              "  <style>\n",
              "    .colab-df-container {\n",
              "      display:flex;\n",
              "      gap: 12px;\n",
              "    }\n",
              "\n",
              "    .colab-df-convert {\n",
              "      background-color: #E8F0FE;\n",
              "      border: none;\n",
              "      border-radius: 50%;\n",
              "      cursor: pointer;\n",
              "      display: none;\n",
              "      fill: #1967D2;\n",
              "      height: 32px;\n",
              "      padding: 0 0 0 0;\n",
              "      width: 32px;\n",
              "    }\n",
              "\n",
              "    .colab-df-convert:hover {\n",
              "      background-color: #E2EBFA;\n",
              "      box-shadow: 0px 1px 2px rgba(60, 64, 67, 0.3), 0px 1px 3px 1px rgba(60, 64, 67, 0.15);\n",
              "      fill: #174EA6;\n",
              "    }\n",
              "\n",
              "    .colab-df-buttons div {\n",
              "      margin-bottom: 4px;\n",
              "    }\n",
              "\n",
              "    [theme=dark] .colab-df-convert {\n",
              "      background-color: #3B4455;\n",
              "      fill: #D2E3FC;\n",
              "    }\n",
              "\n",
              "    [theme=dark] .colab-df-convert:hover {\n",
              "      background-color: #434B5C;\n",
              "      box-shadow: 0px 1px 3px 1px rgba(0, 0, 0, 0.15);\n",
              "      filter: drop-shadow(0px 1px 2px rgba(0, 0, 0, 0.3));\n",
              "      fill: #FFFFFF;\n",
              "    }\n",
              "  </style>\n",
              "\n",
              "    <script>\n",
              "      const buttonEl =\n",
              "        document.querySelector('#df-dbe66f3d-f647-4d73-b2ba-5b6c0d5340bf button.colab-df-convert');\n",
              "      buttonEl.style.display =\n",
              "        google.colab.kernel.accessAllowed ? 'block' : 'none';\n",
              "\n",
              "      async function convertToInteractive(key) {\n",
              "        const element = document.querySelector('#df-dbe66f3d-f647-4d73-b2ba-5b6c0d5340bf');\n",
              "        const dataTable =\n",
              "          await google.colab.kernel.invokeFunction('convertToInteractive',\n",
              "                                                    [key], {});\n",
              "        if (!dataTable) return;\n",
              "\n",
              "        const docLinkHtml = 'Like what you see? Visit the ' +\n",
              "          '<a target=\"_blank\" href=https://colab.research.google.com/notebooks/data_table.ipynb>data table notebook</a>'\n",
              "          + ' to learn more about interactive tables.';\n",
              "        element.innerHTML = '';\n",
              "        dataTable['output_type'] = 'display_data';\n",
              "        await google.colab.output.renderOutput(dataTable, element);\n",
              "        const docLink = document.createElement('div');\n",
              "        docLink.innerHTML = docLinkHtml;\n",
              "        element.appendChild(docLink);\n",
              "      }\n",
              "    </script>\n",
              "  </div>\n",
              "\n",
              "\n",
              "<div id=\"df-d24d2c58-db5c-44fe-9c4b-1379cdbd954f\">\n",
              "  <button class=\"colab-df-quickchart\" onclick=\"quickchart('df-d24d2c58-db5c-44fe-9c4b-1379cdbd954f')\"\n",
              "            title=\"Suggest charts.\"\n",
              "            style=\"display:none;\">\n",
              "\n",
              "<svg xmlns=\"http://www.w3.org/2000/svg\" height=\"24px\"viewBox=\"0 0 24 24\"\n",
              "     width=\"24px\">\n",
              "    <g>\n",
              "        <path d=\"M19 3H5c-1.1 0-2 .9-2 2v14c0 1.1.9 2 2 2h14c1.1 0 2-.9 2-2V5c0-1.1-.9-2-2-2zM9 17H7v-7h2v7zm4 0h-2V7h2v10zm4 0h-2v-4h2v4z\"/>\n",
              "    </g>\n",
              "</svg>\n",
              "  </button>\n",
              "\n",
              "<style>\n",
              "  .colab-df-quickchart {\n",
              "      --bg-color: #E8F0FE;\n",
              "      --fill-color: #1967D2;\n",
              "      --hover-bg-color: #E2EBFA;\n",
              "      --hover-fill-color: #174EA6;\n",
              "      --disabled-fill-color: #AAA;\n",
              "      --disabled-bg-color: #DDD;\n",
              "  }\n",
              "\n",
              "  [theme=dark] .colab-df-quickchart {\n",
              "      --bg-color: #3B4455;\n",
              "      --fill-color: #D2E3FC;\n",
              "      --hover-bg-color: #434B5C;\n",
              "      --hover-fill-color: #FFFFFF;\n",
              "      --disabled-bg-color: #3B4455;\n",
              "      --disabled-fill-color: #666;\n",
              "  }\n",
              "\n",
              "  .colab-df-quickchart {\n",
              "    background-color: var(--bg-color);\n",
              "    border: none;\n",
              "    border-radius: 50%;\n",
              "    cursor: pointer;\n",
              "    display: none;\n",
              "    fill: var(--fill-color);\n",
              "    height: 32px;\n",
              "    padding: 0;\n",
              "    width: 32px;\n",
              "  }\n",
              "\n",
              "  .colab-df-quickchart:hover {\n",
              "    background-color: var(--hover-bg-color);\n",
              "    box-shadow: 0 1px 2px rgba(60, 64, 67, 0.3), 0 1px 3px 1px rgba(60, 64, 67, 0.15);\n",
              "    fill: var(--button-hover-fill-color);\n",
              "  }\n",
              "\n",
              "  .colab-df-quickchart-complete:disabled,\n",
              "  .colab-df-quickchart-complete:disabled:hover {\n",
              "    background-color: var(--disabled-bg-color);\n",
              "    fill: var(--disabled-fill-color);\n",
              "    box-shadow: none;\n",
              "  }\n",
              "\n",
              "  .colab-df-spinner {\n",
              "    border: 2px solid var(--fill-color);\n",
              "    border-color: transparent;\n",
              "    border-bottom-color: var(--fill-color);\n",
              "    animation:\n",
              "      spin 1s steps(1) infinite;\n",
              "  }\n",
              "\n",
              "  @keyframes spin {\n",
              "    0% {\n",
              "      border-color: transparent;\n",
              "      border-bottom-color: var(--fill-color);\n",
              "      border-left-color: var(--fill-color);\n",
              "    }\n",
              "    20% {\n",
              "      border-color: transparent;\n",
              "      border-left-color: var(--fill-color);\n",
              "      border-top-color: var(--fill-color);\n",
              "    }\n",
              "    30% {\n",
              "      border-color: transparent;\n",
              "      border-left-color: var(--fill-color);\n",
              "      border-top-color: var(--fill-color);\n",
              "      border-right-color: var(--fill-color);\n",
              "    }\n",
              "    40% {\n",
              "      border-color: transparent;\n",
              "      border-right-color: var(--fill-color);\n",
              "      border-top-color: var(--fill-color);\n",
              "    }\n",
              "    60% {\n",
              "      border-color: transparent;\n",
              "      border-right-color: var(--fill-color);\n",
              "    }\n",
              "    80% {\n",
              "      border-color: transparent;\n",
              "      border-right-color: var(--fill-color);\n",
              "      border-bottom-color: var(--fill-color);\n",
              "    }\n",
              "    90% {\n",
              "      border-color: transparent;\n",
              "      border-bottom-color: var(--fill-color);\n",
              "    }\n",
              "  }\n",
              "</style>\n",
              "\n",
              "  <script>\n",
              "    async function quickchart(key) {\n",
              "      const quickchartButtonEl =\n",
              "        document.querySelector('#' + key + ' button');\n",
              "      quickchartButtonEl.disabled = true;  // To prevent multiple clicks.\n",
              "      quickchartButtonEl.classList.add('colab-df-spinner');\n",
              "      try {\n",
              "        const charts = await google.colab.kernel.invokeFunction(\n",
              "            'suggestCharts', [key], {});\n",
              "      } catch (error) {\n",
              "        console.error('Error during call to suggestCharts:', error);\n",
              "      }\n",
              "      quickchartButtonEl.classList.remove('colab-df-spinner');\n",
              "      quickchartButtonEl.classList.add('colab-df-quickchart-complete');\n",
              "    }\n",
              "    (() => {\n",
              "      let quickchartButtonEl =\n",
              "        document.querySelector('#df-d24d2c58-db5c-44fe-9c4b-1379cdbd954f button');\n",
              "      quickchartButtonEl.style.display =\n",
              "        google.colab.kernel.accessAllowed ? 'block' : 'none';\n",
              "    })();\n",
              "  </script>\n",
              "</div>\n",
              "    </div>\n",
              "  </div>\n"
            ]
          },
          "metadata": {},
          "execution_count": 28
        }
      ]
    },
    {
      "cell_type": "code",
      "source": [
        "# plotting temperatue vs power consumption\n",
        "import matplotlib.pyplot as plt\n",
        "\n",
        "unique_temps = np.unique(concat_df['temp'])\n",
        "# Plotting\n",
        "plt.bar(unique_temps, concat_df.groupby('temp')['values'].mean())\n",
        "plt.xlabel('Temperature')\n",
        "plt.ylabel('Mean Values')\n",
        "plt.title('Mean power consumption vs Temperature')\n",
        "plt.show()"
      ],
      "metadata": {
        "colab": {
          "base_uri": "https://localhost:8080/",
          "height": 472
        },
        "id": "oSgxdJ5p6Y3H",
        "outputId": "c18754d2-0eba-463d-b524-abe4a0ca8787"
      },
      "execution_count": 29,
      "outputs": [
        {
          "output_type": "display_data",
          "data": {
            "text/plain": [
              "<Figure size 640x480 with 1 Axes>"
            ],
            "image/png": "[encoded data removed]"
          },
          "metadata": {}
        }
      ]
    },
    {
      "cell_type": "code",
      "source": [
        "concat_df.columns"
      ],
      "metadata": {
        "colab": {
          "base_uri": "https://localhost:8080/"
        },
        "id": "nLlYHjJrQwB2",
        "outputId": "4f2136c9-2024-4448-e391-5df4ec17d423"
      },
      "execution_count": 30,
      "outputs": [
        {
          "output_type": "execute_result",
          "data": {
            "text/plain": [
              "Index(['time', 'values', 'temp', 'up_of_month', 'down_of_month', 'sin_day',\n",
              "       'cos_day', 'morning', 'afternoon', 'evening', 'weekend', 'time_slot',\n",
              "       'peak_load', 'spring', 'summer', 'fall', 'winter', 'four_mean'],\n",
              "      dtype='object')"
            ]
          },
          "metadata": {},
          "execution_count": 30
        }
      ]
    },
    {
      "cell_type": "code",
      "source": [
        "# normalizing the value and mean columns\n",
        "# Normalizing using the Standard Deviation Normalization method\n",
        "concat_df_value_mean = concat_df[\"values\"].mean()\n",
        "concat_df_value_std = concat_df[\"values\"].std()\n",
        "concat_df.loc[:, \"values\"] = (concat_df[\"values\"] - concat_df_value_mean) / concat_df_value_std\n",
        "\n",
        "concat_df_four_mean_mean = concat_df[\"four_mean\"].mean()\n",
        "concat_df_four_mean_std = concat_df[\"four_mean\"].std()\n",
        "concat_df.loc[:, \"four_mean\"] = (concat_df[\"four_mean\"] - concat_df_four_mean_mean) / concat_df_four_mean_std"
      ],
      "metadata": {
        "id": "vqpr46G98us2"
      },
      "execution_count": 32,
      "outputs": []
    },
    {
      "cell_type": "markdown",
      "source": [
        "# building Model\n"
      ],
      "metadata": {
        "id": "gRo_OOfzRgZC"
      }
    },
    {
      "cell_type": "code",
      "source": [
        "from sklearn.model_selection import KFold #Import the k-fold cross validation function in the machine learning library\n",
        "import lightgbm as lgb\n",
        "from bayes_opt import BayesianOptimization\n",
        "from sklearn.model_selection import train_test_split\n",
        "from sklearn.metrics import mean_squared_error\n",
        "from sklearn.model_selection import KFold"
      ],
      "metadata": {
        "id": "omhFeuRyRkCH"
      },
      "execution_count": 42,
      "outputs": []
    },
    {
      "cell_type": "code",
      "source": [
        "concat_df.drop(\"time\", axis=1 , inplace = True)"
      ],
      "metadata": {
        "id": "gfKluds2Sy8p"
      },
      "execution_count": 40,
      "outputs": []
    },
    {
      "cell_type": "code",
      "source": [
        "concat_df.columns"
      ],
      "metadata": {
        "colab": {
          "base_uri": "https://localhost:8080/"
        },
        "id": "B4h-wk_YTGEm",
        "outputId": "329cf47d-a1a6-4c5f-ad9f-dd971441970d"
      },
      "execution_count": 41,
      "outputs": [
        {
          "output_type": "execute_result",
          "data": {
            "text/plain": [
              "Index(['values', 'temp', 'up_of_month', 'down_of_month', 'sin_day', 'cos_day',\n",
              "       'morning', 'afternoon', 'evening', 'weekend', 'time_slot', 'peak_load',\n",
              "       'spring', 'summer', 'fall', 'winter', 'four_mean'],\n",
              "      dtype='object')"
            ]
          },
          "metadata": {},
          "execution_count": 41
        }
      ]
    },
    {
      "cell_type": "code",
      "source": [
        "concat_df.values"
      ],
      "metadata": {
        "colab": {
          "base_uri": "https://localhost:8080/"
        },
        "id": "HuoD0JrmgAqH",
        "outputId": "bc0c558f-b6d1-4fa4-de29-0675a3081923"
      },
      "execution_count": 51,
      "outputs": [
        {
          "output_type": "execute_result",
          "data": {
            "text/plain": [
              "array([[-1.450910618416845, 6.7, 0, ..., 0, 0, -1.5027952194213867],\n",
              "       [-1.7127212791750932, 6.1, 0, ..., 0, 0, -1.7740144729614258],\n",
              "       [-1.874549505055152, 4.2, 0, ..., 0, 0, -1.9416581392288208],\n",
              "       ...,\n",
              "       [0.03801203797845493, 11.1, 0, ..., 0, 0, -0.2744734585285187],\n",
              "       [-0.06340529605269914, 9.7, 0, ..., 0, 0, -0.07705871760845184],\n",
              "       [-0.24428157533589384, 8.4, 0, ..., 0, 0, 0.022625023499131203]],\n",
              "      dtype=object)"
            ]
          },
          "metadata": {},
          "execution_count": 51
        }
      ]
    },
    {
      "cell_type": "markdown",
      "source": [
        "### hyper parametere tuning"
      ],
      "metadata": {
        "id": "pfs_zCKpYDiJ"
      }
    },
    {
      "cell_type": "code",
      "source": [
        "# changed the \"values\" columns dtype to float\n",
        "concat_df[\"values\"] = pd.to_numeric(concat_df['values'], errors='coerce').astype(float)"
      ],
      "metadata": {
        "id": "vvDrqTR9hL9Z"
      },
      "execution_count": 60,
      "outputs": []
    },
    {
      "cell_type": "code",
      "source": [
        "from lightgbm.callback import early_stopping\n",
        "# laoding dataset\n",
        "y = concat_df['values']\n",
        "X = concat_df.drop(['values'],axis=1)\n",
        "\n",
        "# Define the objective function for Bayesian optimization\n",
        "def lgb_cv(num_leaves, learning_rate, feature_fraction, bagging_fraction, max_depth, lambda_l1, lambda_l2, min_split_gain, min_child_weight):\n",
        "    params = {\n",
        "        'objective': 'regression',\n",
        "        'boosting_type': 'gbdt',\n",
        "        'num_leaves': int(num_leaves),\n",
        "        'learning_rate': learning_rate,\n",
        "        'feature_fraction': max(min(feature_fraction, 1), 0),\n",
        "        'bagging_fraction': max(min(bagging_fraction, 1), 0),\n",
        "        'max_depth': int(max_depth),\n",
        "        'lambda_l1': max(lambda_l1, 0),\n",
        "        'lambda_l2': max(lambda_l2, 0),\n",
        "        'min_split_gain': min_split_gain,\n",
        "        'min_child_weight': min_child_weight,\n",
        "        'metric': 'mse',  # Mean Squared Error\n",
        "        'verbose': -1\n",
        "    }\n",
        "\n",
        "    # Perform k-fold cross-validation\n",
        "    kf = KFold(n_splits=5, shuffle=True, random_state=42)\n",
        "    rmse_scores = []\n",
        "\n",
        "    for train_index, val_index in kf.split(X):\n",
        "        X_tr, X_val = X.iloc[train_index], X.iloc[val_index]\n",
        "        y_tr, y_val = y.iloc[train_index], y.iloc[val_index]\n",
        "\n",
        "        lgb_train = lgb.Dataset(X_tr, y_tr)\n",
        "        lgb_val = lgb.Dataset(X_val, y_val, reference=lgb_train)\n",
        "\n",
        "        model = lgb.train(params, lgb_train, num_boost_round=1000,\n",
        "                          valid_sets=[lgb_val])\n",
        "\n",
        "        y_pred = model.predict(X_val, num_iteration=model.best_iteration)\n",
        "        rmse = np.sqrt(mean_squared_error(y_val, y_pred))\n",
        "        rmse_scores.append(rmse)\n",
        "\n",
        "    return -np.mean(rmse_scores)  # Negative because BayesianOptimization minimizes\n",
        "\n",
        "# Define the search space for Bayesian optimization\n",
        "pbounds = {\n",
        "    'num_leaves': (24, 64),\n",
        "    'learning_rate': (0.01, 0.3),\n",
        "    'feature_fraction': (0.1, 0.9),\n",
        "    'bagging_fraction': (0.1, 0.9),\n",
        "    'max_depth': (5, 20),\n",
        "    'lambda_l1': (0, 5),\n",
        "    'lambda_l2': (0, 5),\n",
        "    'min_split_gain': (0.001, 0.1),\n",
        "    'min_child_weight': (5, 50)\n",
        "}\n",
        "\n",
        "# Create the Bayesian optimization object\n",
        "optimizer = BayesianOptimization(\n",
        "    f=lgb_cv,\n",
        "    pbounds=pbounds,\n",
        "    random_state=42,\n",
        "    verbose=2  # Adjust verbosity level as needed\n",
        ")\n",
        "\n",
        "# Perform Bayesian optimization\n",
        "optimizer.maximize(\n",
        "    init_points=10,\n",
        "    n_iter=30,\n",
        ")\n",
        "\n",
        "# Get the best hyperparameters\n",
        "best_params = optimizer.max['params']\n",
        "best_params['num_leaves'] = int(best_params['num_leaves'])\n",
        "best_params['max_depth'] = int(best_params['max_depth'])"
      ],
      "metadata": {
        "colab": {
          "base_uri": "https://localhost:8080/"
        },
        "id": "nzwnKTCaSug2",
        "outputId": "6cc6a935-e8bc-4bab-ed90-aa873d27106e"
      },
      "execution_count": 62,
      "outputs": [
        {
          "output_type": "stream",
          "name": "stdout",
          "text": [
            "|   iter    |  target   | baggin... | featur... | lambda_l1 | lambda_l2 | learni... | max_depth | min_ch... | min_sp... | num_le... |\n",
            "-------------------------------------------------------------------------------------------------------------------------------------\n",
            "| \u001b[0m1        \u001b[0m | \u001b[0m-0.2376  \u001b[0m | \u001b[0m0.3996   \u001b[0m | \u001b[0m0.8606   \u001b[0m | \u001b[0m3.66     \u001b[0m | \u001b[0m2.993    \u001b[0m | \u001b[0m0.05525  \u001b[0m | \u001b[0m7.34     \u001b[0m | \u001b[0m7.614    \u001b[0m | \u001b[0m0.08675  \u001b[0m | \u001b[0m48.04    \u001b[0m |\n",
            "| \u001b[0m2        \u001b[0m | \u001b[0m-0.2629  \u001b[0m | \u001b[0m0.6665   \u001b[0m | \u001b[0m0.1165   \u001b[0m | \u001b[0m4.85     \u001b[0m | \u001b[0m4.162    \u001b[0m | \u001b[0m0.07158  \u001b[0m | \u001b[0m7.727    \u001b[0m | \u001b[0m13.25    \u001b[0m | \u001b[0m0.03112  \u001b[0m | \u001b[0m44.99    \u001b[0m |\n",
            "| \u001b[0m3        \u001b[0m | \u001b[0m-0.2455  \u001b[0m | \u001b[0m0.4456   \u001b[0m | \u001b[0m0.333    \u001b[0m | \u001b[0m3.059    \u001b[0m | \u001b[0m0.6975   \u001b[0m | \u001b[0m0.09472  \u001b[0m | \u001b[0m10.5     \u001b[0m | \u001b[0m25.52    \u001b[0m | \u001b[0m0.07873  \u001b[0m | \u001b[0m31.99    \u001b[0m |\n",
            "| \u001b[0m4        \u001b[0m | \u001b[0m-0.2405  \u001b[0m | \u001b[0m0.5114   \u001b[0m | \u001b[0m0.5739   \u001b[0m | \u001b[0m0.2323   \u001b[0m | \u001b[0m3.038    \u001b[0m | \u001b[0m0.05945  \u001b[0m | \u001b[0m5.976    \u001b[0m | \u001b[0m47.7     \u001b[0m | \u001b[0m0.0966   \u001b[0m | \u001b[0m56.34    \u001b[0m |\n",
            "| \u001b[0m5        \u001b[0m | \u001b[0m-0.2529  \u001b[0m | \u001b[0m0.3437   \u001b[0m | \u001b[0m0.1781   \u001b[0m | \u001b[0m3.421    \u001b[0m | \u001b[0m2.201    \u001b[0m | \u001b[0m0.04539  \u001b[0m | \u001b[0m12.43    \u001b[0m | \u001b[0m6.547    \u001b[0m | \u001b[0m0.09102  \u001b[0m | \u001b[0m34.35    \u001b[0m |\n",
            "| \u001b[0m6        \u001b[0m | \u001b[0m-0.2462  \u001b[0m | \u001b[0m0.63     \u001b[0m | \u001b[0m0.3494   \u001b[0m | \u001b[0m2.6      \u001b[0m | \u001b[0m2.734    \u001b[0m | \u001b[0m0.06361  \u001b[0m | \u001b[0m19.54    \u001b[0m | \u001b[0m39.88    \u001b[0m | \u001b[0m0.09401  \u001b[0m | \u001b[0m59.79    \u001b[0m |\n",
            "| \u001b[95m7        \u001b[0m | \u001b[95m-0.2276  \u001b[0m | \u001b[95m0.5783   \u001b[0m | \u001b[95m0.8375   \u001b[0m | \u001b[95m0.4425   \u001b[0m | \u001b[95m0.9799   \u001b[0m | \u001b[95m0.02312  \u001b[0m | \u001b[95m9.88     \u001b[0m | \u001b[95m22.49    \u001b[0m | \u001b[95m0.02786  \u001b[0m | \u001b[95m57.15    \u001b[0m |\n",
            "| \u001b[0m8        \u001b[0m | \u001b[0m-0.2492  \u001b[0m | \u001b[0m0.3854   \u001b[0m | \u001b[0m0.3247   \u001b[0m | \u001b[0m2.713    \u001b[0m | \u001b[0m0.7046   \u001b[0m | \u001b[0m0.2426   \u001b[0m | \u001b[0m6.118    \u001b[0m | \u001b[0m49.41    \u001b[0m | \u001b[0m0.07745  \u001b[0m | \u001b[0m31.95    \u001b[0m |\n",
            "| \u001b[0m9        \u001b[0m | \u001b[0m-0.2358  \u001b[0m | \u001b[0m0.1044   \u001b[0m | \u001b[0m0.7524   \u001b[0m | \u001b[0m3.534    \u001b[0m | \u001b[0m3.645    \u001b[0m | \u001b[0m0.2337   \u001b[0m | \u001b[0m6.111    \u001b[0m | \u001b[0m21.13    \u001b[0m | \u001b[0m0.01247  \u001b[0m | \u001b[0m58.52    \u001b[0m |\n",
            "| \u001b[0m10       \u001b[0m | \u001b[0m-0.2436  \u001b[0m | \u001b[0m0.5986   \u001b[0m | \u001b[0m0.3647   \u001b[0m | \u001b[0m0.3178   \u001b[0m | \u001b[0m1.555    \u001b[0m | \u001b[0m0.1043   \u001b[0m | \u001b[0m15.94    \u001b[0m | \u001b[0m33.69    \u001b[0m | \u001b[0m0.08883  \u001b[0m | \u001b[0m42.89    \u001b[0m |\n",
            "| \u001b[0m11       \u001b[0m | \u001b[0m-0.2295  \u001b[0m | \u001b[0m0.4551   \u001b[0m | \u001b[0m0.8749   \u001b[0m | \u001b[0m0.9477   \u001b[0m | \u001b[0m1.602    \u001b[0m | \u001b[0m0.05452  \u001b[0m | \u001b[0m8.459    \u001b[0m | \u001b[0m22.07    \u001b[0m | \u001b[0m0.02709  \u001b[0m | \u001b[0m59.22    \u001b[0m |\n",
            "| \u001b[0m12       \u001b[0m | \u001b[0m-0.2335  \u001b[0m | \u001b[0m0.5533   \u001b[0m | \u001b[0m0.8896   \u001b[0m | \u001b[0m0.7798   \u001b[0m | \u001b[0m0.537    \u001b[0m | \u001b[0m0.3      \u001b[0m | \u001b[0m8.146    \u001b[0m | \u001b[0m26.61    \u001b[0m | \u001b[0m0.07063  \u001b[0m | \u001b[0m57.39    \u001b[0m |\n",
            "| \u001b[0m13       \u001b[0m | \u001b[0m-0.228   \u001b[0m | \u001b[0m0.2788   \u001b[0m | \u001b[0m0.8103   \u001b[0m | \u001b[0m2.905    \u001b[0m | \u001b[0m0.0      \u001b[0m | \u001b[0m0.01267  \u001b[0m | \u001b[0m13.65    \u001b[0m | \u001b[0m22.83    \u001b[0m | \u001b[0m0.002144 \u001b[0m | \u001b[0m59.65    \u001b[0m |\n",
            "| \u001b[0m14       \u001b[0m | \u001b[0m-0.2293  \u001b[0m | \u001b[0m0.9      \u001b[0m | \u001b[0m0.9      \u001b[0m | \u001b[0m0.0      \u001b[0m | \u001b[0m0.0      \u001b[0m | \u001b[0m0.0131   \u001b[0m | \u001b[0m13.68    \u001b[0m | \u001b[0m16.36    \u001b[0m | \u001b[0m0.1      \u001b[0m | \u001b[0m59.44    \u001b[0m |\n",
            "| \u001b[0m15       \u001b[0m | \u001b[0m-0.2317  \u001b[0m | \u001b[0m0.1      \u001b[0m | \u001b[0m0.9      \u001b[0m | \u001b[0m0.5305   \u001b[0m | \u001b[0m0.0      \u001b[0m | \u001b[0m0.01     \u001b[0m | \u001b[0m7.817    \u001b[0m | \u001b[0m5.0      \u001b[0m | \u001b[0m0.1      \u001b[0m | \u001b[0m56.56    \u001b[0m |\n",
            "| \u001b[95m16       \u001b[0m | \u001b[95m-0.2235  \u001b[0m | \u001b[95m0.9      \u001b[0m | \u001b[95m0.9      \u001b[0m | \u001b[95m0.0      \u001b[0m | \u001b[95m5.0      \u001b[0m | \u001b[95m0.01     \u001b[0m | \u001b[95m19.29    \u001b[0m | \u001b[95m21.6     \u001b[0m | \u001b[95m0.001    \u001b[0m | \u001b[95m59.26    \u001b[0m |\n",
            "| \u001b[0m17       \u001b[0m | \u001b[0m-0.2299  \u001b[0m | \u001b[0m0.1      \u001b[0m | \u001b[0m0.9      \u001b[0m | \u001b[0m5.0      \u001b[0m | \u001b[0m5.0      \u001b[0m | \u001b[0m0.01     \u001b[0m | \u001b[0m20.0     \u001b[0m | \u001b[0m16.56    \u001b[0m | \u001b[0m0.001    \u001b[0m | \u001b[0m64.0     \u001b[0m |\n",
            "| \u001b[95m18       \u001b[0m | \u001b[95m-0.2231  \u001b[0m | \u001b[95m0.9      \u001b[0m | \u001b[95m0.9      \u001b[0m | \u001b[95m0.0      \u001b[0m | \u001b[95m0.0      \u001b[0m | \u001b[95m0.01     \u001b[0m | \u001b[95m20.0     \u001b[0m | \u001b[95m23.4     \u001b[0m | \u001b[95m0.001    \u001b[0m | \u001b[95m64.0     \u001b[0m |\n",
            "| \u001b[0m19       \u001b[0m | \u001b[0m-0.3404  \u001b[0m | \u001b[0m0.9      \u001b[0m | \u001b[0m0.1      \u001b[0m | \u001b[0m0.0      \u001b[0m | \u001b[0m5.0      \u001b[0m | \u001b[0m0.01     \u001b[0m | \u001b[0m15.45    \u001b[0m | \u001b[0m24.68    \u001b[0m | \u001b[0m0.1      \u001b[0m | \u001b[0m64.0     \u001b[0m |\n",
            "| \u001b[0m20       \u001b[0m | \u001b[0m-0.2599  \u001b[0m | \u001b[0m0.2645   \u001b[0m | \u001b[0m0.224    \u001b[0m | \u001b[0m1.33     \u001b[0m | \u001b[0m0.3327   \u001b[0m | \u001b[0m0.2188   \u001b[0m | \u001b[0m13.05    \u001b[0m | \u001b[0m20.13    \u001b[0m | \u001b[0m0.05578  \u001b[0m | \u001b[0m58.03    \u001b[0m |\n",
            "| \u001b[0m21       \u001b[0m | \u001b[0m-0.2297  \u001b[0m | \u001b[0m0.4722   \u001b[0m | \u001b[0m0.9      \u001b[0m | \u001b[0m1.487    \u001b[0m | \u001b[0m0.9004   \u001b[0m | \u001b[0m0.0981   \u001b[0m | \u001b[0m9.373    \u001b[0m | \u001b[0m24.18    \u001b[0m | \u001b[0m0.02729  \u001b[0m | \u001b[0m58.41    \u001b[0m |\n",
            "| \u001b[0m22       \u001b[0m | \u001b[0m-0.2234  \u001b[0m | \u001b[0m0.882    \u001b[0m | \u001b[0m0.9      \u001b[0m | \u001b[0m0.1612   \u001b[0m | \u001b[0m1.56     \u001b[0m | \u001b[0m0.01     \u001b[0m | \u001b[0m20.0     \u001b[0m | \u001b[0m21.75    \u001b[0m | \u001b[0m0.001    \u001b[0m | \u001b[0m60.93    \u001b[0m |\n",
            "| \u001b[0m23       \u001b[0m | \u001b[0m-0.2254  \u001b[0m | \u001b[0m0.7301   \u001b[0m | \u001b[0m0.9      \u001b[0m | \u001b[0m1.665    \u001b[0m | \u001b[0m3.565    \u001b[0m | \u001b[0m0.01     \u001b[0m | \u001b[0m20.0     \u001b[0m | \u001b[0m18.84    \u001b[0m | \u001b[0m0.001    \u001b[0m | \u001b[0m60.3     \u001b[0m |\n",
            "| \u001b[0m24       \u001b[0m | \u001b[0m-0.2259  \u001b[0m | \u001b[0m0.6165   \u001b[0m | \u001b[0m0.9      \u001b[0m | \u001b[0m2.105    \u001b[0m | \u001b[0m0.0      \u001b[0m | \u001b[0m0.01     \u001b[0m | \u001b[0m20.0     \u001b[0m | \u001b[0m19.77    \u001b[0m | \u001b[0m0.001    \u001b[0m | \u001b[0m63.44    \u001b[0m |\n",
            "| \u001b[0m25       \u001b[0m | \u001b[0m-0.2386  \u001b[0m | \u001b[0m0.8095   \u001b[0m | \u001b[0m0.5909   \u001b[0m | \u001b[0m4.07     \u001b[0m | \u001b[0m3.17     \u001b[0m | \u001b[0m0.09814  \u001b[0m | \u001b[0m19.39    \u001b[0m | \u001b[0m21.97    \u001b[0m | \u001b[0m0.03885  \u001b[0m | \u001b[0m58.69    \u001b[0m |\n",
            "| \u001b[0m26       \u001b[0m | \u001b[0m-0.2275  \u001b[0m | \u001b[0m0.9      \u001b[0m | \u001b[0m0.9      \u001b[0m | \u001b[0m0.0      \u001b[0m | \u001b[0m0.1627   \u001b[0m | \u001b[0m0.01     \u001b[0m | \u001b[0m18.53    \u001b[0m | \u001b[0m16.45    \u001b[0m | \u001b[0m0.05976  \u001b[0m | \u001b[0m61.15    \u001b[0m |\n",
            "| \u001b[0m27       \u001b[0m | \u001b[0m-0.2298  \u001b[0m | \u001b[0m0.9      \u001b[0m | \u001b[0m0.9      \u001b[0m | \u001b[0m2.284    \u001b[0m | \u001b[0m2.957    \u001b[0m | \u001b[0m0.01     \u001b[0m | \u001b[0m16.28    \u001b[0m | \u001b[0m13.98    \u001b[0m | \u001b[0m0.02016  \u001b[0m | \u001b[0m61.46    \u001b[0m |\n",
            "| \u001b[0m28       \u001b[0m | \u001b[0m-0.2316  \u001b[0m | \u001b[0m0.2306   \u001b[0m | \u001b[0m0.7493   \u001b[0m | \u001b[0m0.1014   \u001b[0m | \u001b[0m3.313    \u001b[0m | \u001b[0m0.24     \u001b[0m | \u001b[0m19.4     \u001b[0m | \u001b[0m15.11    \u001b[0m | \u001b[0m0.03711  \u001b[0m | \u001b[0m56.31    \u001b[0m |\n",
            "| \u001b[0m29       \u001b[0m | \u001b[0m-0.2235  \u001b[0m | \u001b[0m0.9      \u001b[0m | \u001b[0m0.9      \u001b[0m | \u001b[0m0.0      \u001b[0m | \u001b[0m5.0      \u001b[0m | \u001b[0m0.01     \u001b[0m | \u001b[0m20.0     \u001b[0m | \u001b[0m20.16    \u001b[0m | \u001b[0m0.001    \u001b[0m | \u001b[0m55.5     \u001b[0m |\n",
            "| \u001b[0m30       \u001b[0m | \u001b[0m-0.2293  \u001b[0m | \u001b[0m0.9      \u001b[0m | \u001b[0m0.9      \u001b[0m | \u001b[0m0.0      \u001b[0m | \u001b[0m0.0      \u001b[0m | \u001b[0m0.01     \u001b[0m | \u001b[0m14.21    \u001b[0m | \u001b[0m11.29    \u001b[0m | \u001b[0m0.1      \u001b[0m | \u001b[0m58.99    \u001b[0m |\n",
            "| \u001b[0m31       \u001b[0m | \u001b[0m-0.2291  \u001b[0m | \u001b[0m0.9      \u001b[0m | \u001b[0m0.9      \u001b[0m | \u001b[0m0.0      \u001b[0m | \u001b[0m0.0      \u001b[0m | \u001b[0m0.01     \u001b[0m | \u001b[0m13.04    \u001b[0m | \u001b[0m13.67    \u001b[0m | \u001b[0m0.1      \u001b[0m | \u001b[0m63.99    \u001b[0m |\n",
            "| \u001b[0m32       \u001b[0m | \u001b[0m-0.2301  \u001b[0m | \u001b[0m0.9      \u001b[0m | \u001b[0m0.9      \u001b[0m | \u001b[0m0.0      \u001b[0m | \u001b[0m0.9661   \u001b[0m | \u001b[0m0.01     \u001b[0m | \u001b[0m8.748    \u001b[0m | \u001b[0m12.63    \u001b[0m | \u001b[0m0.1      \u001b[0m | \u001b[0m60.04    \u001b[0m |\n",
            "| \u001b[0m33       \u001b[0m | \u001b[0m-0.2234  \u001b[0m | \u001b[0m0.1      \u001b[0m | \u001b[0m0.9      \u001b[0m | \u001b[0m0.0      \u001b[0m | \u001b[0m0.0      \u001b[0m | \u001b[0m0.01     \u001b[0m | \u001b[0m20.0     \u001b[0m | \u001b[0m22.86    \u001b[0m | \u001b[0m0.001    \u001b[0m | \u001b[0m56.36    \u001b[0m |\n",
            "| \u001b[0m34       \u001b[0m | \u001b[0m-0.2283  \u001b[0m | \u001b[0m0.7614   \u001b[0m | \u001b[0m0.7805   \u001b[0m | \u001b[0m0.2083   \u001b[0m | \u001b[0m3.701    \u001b[0m | \u001b[0m0.02637  \u001b[0m | \u001b[0m19.08    \u001b[0m | \u001b[0m25.45    \u001b[0m | \u001b[0m0.03308  \u001b[0m | \u001b[0m53.57    \u001b[0m |\n",
            "| \u001b[0m35       \u001b[0m | \u001b[0m-0.2299  \u001b[0m | \u001b[0m0.1      \u001b[0m | \u001b[0m0.9      \u001b[0m | \u001b[0m4.881    \u001b[0m | \u001b[0m0.0      \u001b[0m | \u001b[0m0.01     \u001b[0m | \u001b[0m14.33    \u001b[0m | \u001b[0m26.38    \u001b[0m | \u001b[0m0.001    \u001b[0m | \u001b[0m56.47    \u001b[0m |\n",
            "| \u001b[0m36       \u001b[0m | \u001b[0m-0.2316  \u001b[0m | \u001b[0m0.9      \u001b[0m | \u001b[0m0.9      \u001b[0m | \u001b[0m0.0      \u001b[0m | \u001b[0m0.0      \u001b[0m | \u001b[0m0.01     \u001b[0m | \u001b[0m5.358    \u001b[0m | \u001b[0m21.83    \u001b[0m | \u001b[0m0.001    \u001b[0m | \u001b[0m54.29    \u001b[0m |\n",
            "| \u001b[0m37       \u001b[0m | \u001b[0m-0.2236  \u001b[0m | \u001b[0m0.9      \u001b[0m | \u001b[0m0.9      \u001b[0m | \u001b[0m0.0      \u001b[0m | \u001b[0m0.7506   \u001b[0m | \u001b[0m0.01     \u001b[0m | \u001b[0m20.0     \u001b[0m | \u001b[0m20.85    \u001b[0m | \u001b[0m0.001    \u001b[0m | \u001b[0m51.25    \u001b[0m |\n",
            "| \u001b[0m38       \u001b[0m | \u001b[0m-0.2266  \u001b[0m | \u001b[0m0.1      \u001b[0m | \u001b[0m0.9      \u001b[0m | \u001b[0m2.416    \u001b[0m | \u001b[0m5.0      \u001b[0m | \u001b[0m0.01     \u001b[0m | \u001b[0m20.0     \u001b[0m | \u001b[0m21.29    \u001b[0m | \u001b[0m0.001    \u001b[0m | \u001b[0m49.62    \u001b[0m |\n",
            "| \u001b[0m39       \u001b[0m | \u001b[0m-0.2287  \u001b[0m | \u001b[0m0.1      \u001b[0m | \u001b[0m0.9      \u001b[0m | \u001b[0m4.049    \u001b[0m | \u001b[0m0.0      \u001b[0m | \u001b[0m0.01     \u001b[0m | \u001b[0m20.0     \u001b[0m | \u001b[0m24.13    \u001b[0m | \u001b[0m0.001    \u001b[0m | \u001b[0m51.19    \u001b[0m |\n",
            "| \u001b[0m40       \u001b[0m | \u001b[0m-0.2322  \u001b[0m | \u001b[0m0.1      \u001b[0m | \u001b[0m0.9      \u001b[0m | \u001b[0m0.0      \u001b[0m | \u001b[0m1.755    \u001b[0m | \u001b[0m0.2475   \u001b[0m | \u001b[0m16.18    \u001b[0m | \u001b[0m23.48    \u001b[0m | \u001b[0m0.09097  \u001b[0m | \u001b[0m48.45    \u001b[0m |\n",
            "=====================================================================================================================================\n"
          ]
        }
      ]
    },
    {
      "cell_type": "code",
      "source": [
        "best_params"
      ],
      "metadata": {
        "colab": {
          "base_uri": "https://localhost:8080/"
        },
        "id": "Tu5MThNoo2qF",
        "outputId": "f0ec9ad4-270c-4e76-a7c0-aab3a2a33f62"
      },
      "execution_count": 63,
      "outputs": [
        {
          "output_type": "execute_result",
          "data": {
            "text/plain": [
              "{'bagging_fraction': 0.9,\n",
              " 'feature_fraction': 0.9,\n",
              " 'lambda_l1': 0.0,\n",
              " 'lambda_l2': 0.0,\n",
              " 'learning_rate': 0.01,\n",
              " 'max_depth': 20,\n",
              " 'min_child_weight': 23.399737863355515,\n",
              " 'min_split_gain': 0.001,\n",
              " 'num_leaves': 64}"
            ]
          },
          "metadata": {},
          "execution_count": 63
        }
      ]
    },
    {
      "cell_type": "code",
      "source": [
        "# Perform k-fold cross-validation\n",
        "kf = KFold(n_splits=5, shuffle=True, random_state=42)\n",
        "rmse_scores = []\n",
        "\n",
        "for fold, (train_index, val_index) in enumerate(kf.split(X)):\n",
        "    X_train, X_val = X.iloc[train_index], X.iloc[val_index]\n",
        "    y_train, y_val = y.iloc[train_index], y.iloc[val_index]\n",
        "\n",
        "    lgb_train = lgb.Dataset(X_train, y_train)\n",
        "    lgb_val = lgb.Dataset(X_val, y_val, reference=lgb_train)\n",
        "\n",
        "    model = lgb.train(best_params, lgb_train,\n",
        "                      num_boost_round=1000,\n",
        "                      valid_sets=[lgb_val],\n",
        "                      )\n",
        "\n",
        "    # Make predictions on the validation set\n",
        "    y_pred = model.predict(X_val, num_iteration=model.best_iteration)\n",
        "\n",
        "    # Calculate RMSE for the fold\n",
        "    rmse = np.sqrt(mean_squared_error(y_val, y_pred))\n",
        "    print(f\"Fold {fold + 1}, RMSE: {rmse}\")\n",
        "    rmse_scores.append(rmse)\n",
        "\n",
        "# # Plot the RMSE for each fold\n",
        "# plt.figure(figsize=(8, 6))\n",
        "# plt.plot(range(1, len(rmse_scores) + 1), rmse_scores, marker='o', linestyle='-', color='b')\n",
        "# plt.title('RMSE for Each Fold')\n",
        "# plt.xlabel('Fold')\n",
        "# plt.ylabel('RMSE')\n",
        "# plt.show()"
      ],
      "metadata": {
        "id": "IaxrkAGbpC-Q"
      },
      "execution_count": null,
      "outputs": []
    }
  ]
}