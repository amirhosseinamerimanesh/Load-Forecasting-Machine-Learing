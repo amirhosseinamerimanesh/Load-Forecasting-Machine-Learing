{
  "nbformat": 4,
  "nbformat_minor": 0,
  "metadata": {
    "colab": {
      "provenance": [],
      "include_colab_link": true
    },
    "kernelspec": {
      "name": "python3",
      "display_name": "Python 3"
    },
    "language_info": {
      "name": "python"
    }
  },
  "cells": [
    {
      "cell_type": "markdown",
      "metadata": {
        "id": "view-in-github",
        "colab_type": "text"
      },
      "source": [
        "<a href=\"https://colab.research.google.com/github/shahriarivari/Load-Forecasting-Machine-Learing/blob/main/load_forecasting_ml.ipynb\" target=\"_parent\"><img src=\"https://colab.research.google.com/assets/colab-badge.svg\" alt=\"Open In Colab\"/></a>"
      ]
    },
    {
      "cell_type": "markdown",
      "source": [
        "### installing libraries"
      ],
      "metadata": {
        "id": "VWcrWp5n8m1V"
      }
    },
    {
      "cell_type": "code",
      "execution_count": 1,
      "metadata": {
        "colab": {
          "base_uri": "https://localhost:8080/"
        },
        "id": "kj5GfFKY8TW4",
        "outputId": "a922217a-f432-4faa-962d-127320abafcf"
      },
      "outputs": [
        {
          "output_type": "stream",
          "name": "stdout",
          "text": [
            "Requirement already satisfied: jdatetime in /usr/local/lib/python3.10/dist-packages (4.1.1)\n",
            "Requirement already satisfied: scikit-optimize in /usr/local/lib/python3.10/dist-packages (0.9.0)\n",
            "Requirement already satisfied: joblib>=0.11 in /usr/local/lib/python3.10/dist-packages (from scikit-optimize) (1.3.2)\n",
            "Requirement already satisfied: pyaml>=16.9 in /usr/local/lib/python3.10/dist-packages (from scikit-optimize) (23.9.7)\n",
            "Requirement already satisfied: numpy>=1.13.3 in /usr/local/lib/python3.10/dist-packages (from scikit-optimize) (1.23.5)\n",
            "Requirement already satisfied: scipy>=0.19.1 in /usr/local/lib/python3.10/dist-packages (from scikit-optimize) (1.11.3)\n",
            "Requirement already satisfied: scikit-learn>=0.20.0 in /usr/local/lib/python3.10/dist-packages (from scikit-optimize) (1.2.2)\n",
            "Requirement already satisfied: PyYAML in /usr/local/lib/python3.10/dist-packages (from pyaml>=16.9->scikit-optimize) (6.0.1)\n",
            "Requirement already satisfied: threadpoolctl>=2.0.0 in /usr/local/lib/python3.10/dist-packages (from scikit-learn>=0.20.0->scikit-optimize) (3.2.0)\n",
            "Requirement already satisfied: bayesian-optimization in /usr/local/lib/python3.10/dist-packages (1.4.3)\n",
            "Requirement already satisfied: numpy>=1.9.0 in /usr/local/lib/python3.10/dist-packages (from bayesian-optimization) (1.23.5)\n",
            "Requirement already satisfied: scipy>=1.0.0 in /usr/local/lib/python3.10/dist-packages (from bayesian-optimization) (1.11.3)\n",
            "Requirement already satisfied: scikit-learn>=0.18.0 in /usr/local/lib/python3.10/dist-packages (from bayesian-optimization) (1.2.2)\n",
            "Requirement already satisfied: colorama>=0.4.6 in /usr/local/lib/python3.10/dist-packages (from bayesian-optimization) (0.4.6)\n",
            "Requirement already satisfied: joblib>=1.1.1 in /usr/local/lib/python3.10/dist-packages (from scikit-learn>=0.18.0->bayesian-optimization) (1.3.2)\n",
            "Requirement already satisfied: threadpoolctl>=2.0.0 in /usr/local/lib/python3.10/dist-packages (from scikit-learn>=0.18.0->bayesian-optimization) (3.2.0)\n"
          ]
        }
      ],
      "source": [
        "# installing jdatetime for converting date to Gregotian\n",
        "# !pip install scikit-learn\n",
        "# !pip install matplotlib\n",
        "!pip install jdatetime\n",
        "!pip install scikit-optimize\n",
        "!pip install bayesian-optimization"
      ]
    },
    {
      "cell_type": "markdown",
      "source": [
        "# data manipulation\n",
        "\n",
        "inculding: 1-becoming one with data, 2-feature engieering, and 3-preprocessing"
      ],
      "metadata": {
        "id": "YeV8fJBy86QB"
      }
    },
    {
      "cell_type": "code",
      "source": [
        "import pandas as pd # to import the excel file\n",
        "import numpy as np  # to deal with numbers\n",
        "import jdatetime    # to convert Jalali datatime to Gregorian"
      ],
      "metadata": {
        "id": "hbSN9RVq83sS"
      },
      "execution_count": 2,
      "outputs": []
    },
    {
      "cell_type": "code",
      "source": [
        "## importing data\n",
        "data_df = pd.read_excel(\"consumption.xlsx\")\n",
        "temp_df = pd.read_csv(\"temperature.csv\")"
      ],
      "metadata": {
        "id": "gpMagMZP98fI"
      },
      "execution_count": 3,
      "outputs": []
    },
    {
      "cell_type": "code",
      "source": [
        "# Apply the conversion directly using a lambda function\n",
        "data_df['date'] = data_df['date'].apply(lambda x: jdatetime.datetime.strptime(x, '%Y/%m/%d').togregorian().strftime('%Y-%m-%d'))\n",
        "data_df.rename(columns={\"date\": \"time\"}, inplace=True)"
      ],
      "metadata": {
        "id": "yDR7oNLp-Ejd"
      },
      "execution_count": 4,
      "outputs": []
    },
    {
      "cell_type": "code",
      "source": [
        "# making the dataframe into a column vector of time and values\n",
        "# we make to lists of hours and their repective values and then concatenate them\n",
        "time_hourly = []\n",
        "values_hourly = []\n",
        "list_of_hours = [int(col) for col in data_df.columns[1:]]\n",
        "for i in range(len(data_df[\"time\"])):\n",
        "    time = pd.to_datetime(data_df['time'][i], format='%Y-%m-%d') + pd.to_timedelta(list_of_hours, unit='h').values\n",
        "    values = data_df.loc[i][1:].values\n",
        "    time_hourly.append(time)\n",
        "    values_hourly.append(values)"
      ],
      "metadata": {
        "id": "SbDKlvyL-kpG"
      },
      "execution_count": 5,
      "outputs": []
    },
    {
      "cell_type": "code",
      "source": [
        "time_concatenated = np.concatenate(time_hourly)\n",
        "values_concatenated = np.concatenate(values_hourly)"
      ],
      "metadata": {
        "id": "rVofroj1_Bj_"
      },
      "execution_count": 6,
      "outputs": []
    },
    {
      "cell_type": "code",
      "source": [
        "# and now we make the new df\n",
        "new_df = pd.DataFrame({\"time\": time_concatenated, \"values\": values_concatenated})\n",
        "temp_df[\"time\"] = pd.to_datetime(temp_df['time'], format='%Y-%m-%d')\n",
        "print(f\" changed the data frame from {data_df.shape} to {new_df.shape} \")"
      ],
      "metadata": {
        "colab": {
          "base_uri": "https://localhost:8080/"
        },
        "id": "6xFQF90E_h9R",
        "outputId": "b154b3fe-f87e-440a-cdc8-7b4fad7aa160"
      },
      "execution_count": 7,
      "outputs": [
        {
          "output_type": "stream",
          "name": "stdout",
          "text": [
            " changed the data frame from (730, 25) to (17520, 2) \n"
          ]
        }
      ]
    },
    {
      "cell_type": "code",
      "source": [
        "# Concatenate based on the 'Time' column\n",
        "concat_df = pd.concat([new_df.set_index('time'), temp_df.set_index('time')], axis=1, join='inner')\n",
        "# Reset the index to make 'Time' a column again\n",
        "concat_df.reset_index(inplace=True)\n",
        "concat_df.head(2)"
      ],
      "metadata": {
        "colab": {
          "base_uri": "https://localhost:8080/",
          "height": 112
        },
        "id": "shWoduE6qYJg",
        "outputId": "118e9471-4a07-4e70-c123-f917b6e220ec"
      },
      "execution_count": 8,
      "outputs": [
        {
          "output_type": "execute_result",
          "data": {
            "text/plain": [
              "                 time      values  temp\n",
              "0 2021-03-21 01:00:00  683.189471   6.7\n",
              "1 2021-03-21 02:00:00  627.645948   6.1"
            ],
            "text/html": [
              "\n",
              "  <div id=\"df-0efc8aef-7e6b-4adc-adea-5a6d8191754d\" class=\"colab-df-container\">\n",
              "    <div>\n",
              "<style scoped>\n",
              "    .dataframe tbody tr th:only-of-type {\n",
              "        vertical-align: middle;\n",
              "    }\n",
              "\n",
              "    .dataframe tbody tr th {\n",
              "        vertical-align: top;\n",
              "    }\n",
              "\n",
              "    .dataframe thead th {\n",
              "        text-align: right;\n",
              "    }\n",
              "</style>\n",
              "<table border=\"1\" class=\"dataframe\">\n",
              "  <thead>\n",
              "    <tr style=\"text-align: right;\">\n",
              "      <th></th>\n",
              "      <th>time</th>\n",
              "      <th>values</th>\n",
              "      <th>temp</th>\n",
              "    </tr>\n",
              "  </thead>\n",
              "  <tbody>\n",
              "    <tr>\n",
              "      <th>0</th>\n",
              "      <td>2021-03-21 01:00:00</td>\n",
              "      <td>683.189471</td>\n",
              "      <td>6.7</td>\n",
              "    </tr>\n",
              "    <tr>\n",
              "      <th>1</th>\n",
              "      <td>2021-03-21 02:00:00</td>\n",
              "      <td>627.645948</td>\n",
              "      <td>6.1</td>\n",
              "    </tr>\n",
              "  </tbody>\n",
              "</table>\n",
              "</div>\n",
              "    <div class=\"colab-df-buttons\">\n",
              "\n",
              "  <div class=\"colab-df-container\">\n",
              "    <button class=\"colab-df-convert\" onclick=\"convertToInteractive('df-0efc8aef-7e6b-4adc-adea-5a6d8191754d')\"\n",
              "            title=\"Convert this dataframe to an interactive table.\"\n",
              "            style=\"display:none;\">\n",
              "\n",
              "  <svg xmlns=\"http://www.w3.org/2000/svg\" height=\"24px\" viewBox=\"0 -960 960 960\">\n",
              "    <path d=\"M120-120v-720h720v720H120Zm60-500h600v-160H180v160Zm220 220h160v-160H400v160Zm0 220h160v-160H400v160ZM180-400h160v-160H180v160Zm440 0h160v-160H620v160ZM180-180h160v-160H180v160Zm440 0h160v-160H620v160Z\"/>\n",
              "  </svg>\n",
              "    </button>\n",
              "\n",
              "  <style>\n",
              "    .colab-df-container {\n",
              "      display:flex;\n",
              "      gap: 12px;\n",
              "    }\n",
              "\n",
              "    .colab-df-convert {\n",
              "      background-color: #E8F0FE;\n",
              "      border: none;\n",
              "      border-radius: 50%;\n",
              "      cursor: pointer;\n",
              "      display: none;\n",
              "      fill: #1967D2;\n",
              "      height: 32px;\n",
              "      padding: 0 0 0 0;\n",
              "      width: 32px;\n",
              "    }\n",
              "\n",
              "    .colab-df-convert:hover {\n",
              "      background-color: #E2EBFA;\n",
              "      box-shadow: 0px 1px 2px rgba(60, 64, 67, 0.3), 0px 1px 3px 1px rgba(60, 64, 67, 0.15);\n",
              "      fill: #174EA6;\n",
              "    }\n",
              "\n",
              "    .colab-df-buttons div {\n",
              "      margin-bottom: 4px;\n",
              "    }\n",
              "\n",
              "    [theme=dark] .colab-df-convert {\n",
              "      background-color: #3B4455;\n",
              "      fill: #D2E3FC;\n",
              "    }\n",
              "\n",
              "    [theme=dark] .colab-df-convert:hover {\n",
              "      background-color: #434B5C;\n",
              "      box-shadow: 0px 1px 3px 1px rgba(0, 0, 0, 0.15);\n",
              "      filter: drop-shadow(0px 1px 2px rgba(0, 0, 0, 0.3));\n",
              "      fill: #FFFFFF;\n",
              "    }\n",
              "  </style>\n",
              "\n",
              "    <script>\n",
              "      const buttonEl =\n",
              "        document.querySelector('#df-0efc8aef-7e6b-4adc-adea-5a6d8191754d button.colab-df-convert');\n",
              "      buttonEl.style.display =\n",
              "        google.colab.kernel.accessAllowed ? 'block' : 'none';\n",
              "\n",
              "      async function convertToInteractive(key) {\n",
              "        const element = document.querySelector('#df-0efc8aef-7e6b-4adc-adea-5a6d8191754d');\n",
              "        const dataTable =\n",
              "          await google.colab.kernel.invokeFunction('convertToInteractive',\n",
              "                                                    [key], {});\n",
              "        if (!dataTable) return;\n",
              "\n",
              "        const docLinkHtml = 'Like what you see? Visit the ' +\n",
              "          '<a target=\"_blank\" href=https://colab.research.google.com/notebooks/data_table.ipynb>data table notebook</a>'\n",
              "          + ' to learn more about interactive tables.';\n",
              "        element.innerHTML = '';\n",
              "        dataTable['output_type'] = 'display_data';\n",
              "        await google.colab.output.renderOutput(dataTable, element);\n",
              "        const docLink = document.createElement('div');\n",
              "        docLink.innerHTML = docLinkHtml;\n",
              "        element.appendChild(docLink);\n",
              "      }\n",
              "    </script>\n",
              "  </div>\n",
              "\n",
              "\n",
              "<div id=\"df-7a6cea96-90a2-4947-b3c1-7ce159a3e5a0\">\n",
              "  <button class=\"colab-df-quickchart\" onclick=\"quickchart('df-7a6cea96-90a2-4947-b3c1-7ce159a3e5a0')\"\n",
              "            title=\"Suggest charts.\"\n",
              "            style=\"display:none;\">\n",
              "\n",
              "<svg xmlns=\"http://www.w3.org/2000/svg\" height=\"24px\"viewBox=\"0 0 24 24\"\n",
              "     width=\"24px\">\n",
              "    <g>\n",
              "        <path d=\"M19 3H5c-1.1 0-2 .9-2 2v14c0 1.1.9 2 2 2h14c1.1 0 2-.9 2-2V5c0-1.1-.9-2-2-2zM9 17H7v-7h2v7zm4 0h-2V7h2v10zm4 0h-2v-4h2v4z\"/>\n",
              "    </g>\n",
              "</svg>\n",
              "  </button>\n",
              "\n",
              "<style>\n",
              "  .colab-df-quickchart {\n",
              "      --bg-color: #E8F0FE;\n",
              "      --fill-color: #1967D2;\n",
              "      --hover-bg-color: #E2EBFA;\n",
              "      --hover-fill-color: #174EA6;\n",
              "      --disabled-fill-color: #AAA;\n",
              "      --disabled-bg-color: #DDD;\n",
              "  }\n",
              "\n",
              "  [theme=dark] .colab-df-quickchart {\n",
              "      --bg-color: #3B4455;\n",
              "      --fill-color: #D2E3FC;\n",
              "      --hover-bg-color: #434B5C;\n",
              "      --hover-fill-color: #FFFFFF;\n",
              "      --disabled-bg-color: #3B4455;\n",
              "      --disabled-fill-color: #666;\n",
              "  }\n",
              "\n",
              "  .colab-df-quickchart {\n",
              "    background-color: var(--bg-color);\n",
              "    border: none;\n",
              "    border-radius: 50%;\n",
              "    cursor: pointer;\n",
              "    display: none;\n",
              "    fill: var(--fill-color);\n",
              "    height: 32px;\n",
              "    padding: 0;\n",
              "    width: 32px;\n",
              "  }\n",
              "\n",
              "  .colab-df-quickchart:hover {\n",
              "    background-color: var(--hover-bg-color);\n",
              "    box-shadow: 0 1px 2px rgba(60, 64, 67, 0.3), 0 1px 3px 1px rgba(60, 64, 67, 0.15);\n",
              "    fill: var(--button-hover-fill-color);\n",
              "  }\n",
              "\n",
              "  .colab-df-quickchart-complete:disabled,\n",
              "  .colab-df-quickchart-complete:disabled:hover {\n",
              "    background-color: var(--disabled-bg-color);\n",
              "    fill: var(--disabled-fill-color);\n",
              "    box-shadow: none;\n",
              "  }\n",
              "\n",
              "  .colab-df-spinner {\n",
              "    border: 2px solid var(--fill-color);\n",
              "    border-color: transparent;\n",
              "    border-bottom-color: var(--fill-color);\n",
              "    animation:\n",
              "      spin 1s steps(1) infinite;\n",
              "  }\n",
              "\n",
              "  @keyframes spin {\n",
              "    0% {\n",
              "      border-color: transparent;\n",
              "      border-bottom-color: var(--fill-color);\n",
              "      border-left-color: var(--fill-color);\n",
              "    }\n",
              "    20% {\n",
              "      border-color: transparent;\n",
              "      border-left-color: var(--fill-color);\n",
              "      border-top-color: var(--fill-color);\n",
              "    }\n",
              "    30% {\n",
              "      border-color: transparent;\n",
              "      border-left-color: var(--fill-color);\n",
              "      border-top-color: var(--fill-color);\n",
              "      border-right-color: var(--fill-color);\n",
              "    }\n",
              "    40% {\n",
              "      border-color: transparent;\n",
              "      border-right-color: var(--fill-color);\n",
              "      border-top-color: var(--fill-color);\n",
              "    }\n",
              "    60% {\n",
              "      border-color: transparent;\n",
              "      border-right-color: var(--fill-color);\n",
              "    }\n",
              "    80% {\n",
              "      border-color: transparent;\n",
              "      border-right-color: var(--fill-color);\n",
              "      border-bottom-color: var(--fill-color);\n",
              "    }\n",
              "    90% {\n",
              "      border-color: transparent;\n",
              "      border-bottom-color: var(--fill-color);\n",
              "    }\n",
              "  }\n",
              "</style>\n",
              "\n",
              "  <script>\n",
              "    async function quickchart(key) {\n",
              "      const quickchartButtonEl =\n",
              "        document.querySelector('#' + key + ' button');\n",
              "      quickchartButtonEl.disabled = true;  // To prevent multiple clicks.\n",
              "      quickchartButtonEl.classList.add('colab-df-spinner');\n",
              "      try {\n",
              "        const charts = await google.colab.kernel.invokeFunction(\n",
              "            'suggestCharts', [key], {});\n",
              "      } catch (error) {\n",
              "        console.error('Error during call to suggestCharts:', error);\n",
              "      }\n",
              "      quickchartButtonEl.classList.remove('colab-df-spinner');\n",
              "      quickchartButtonEl.classList.add('colab-df-quickchart-complete');\n",
              "    }\n",
              "    (() => {\n",
              "      let quickchartButtonEl =\n",
              "        document.querySelector('#df-7a6cea96-90a2-4947-b3c1-7ce159a3e5a0 button');\n",
              "      quickchartButtonEl.style.display =\n",
              "        google.colab.kernel.accessAllowed ? 'block' : 'none';\n",
              "    })();\n",
              "  </script>\n",
              "</div>\n",
              "    </div>\n",
              "  </div>\n"
            ]
          },
          "metadata": {},
          "execution_count": 8
        }
      ]
    },
    {
      "cell_type": "code",
      "source": [
        "# addding mutiple columns using the \"time\" col\n",
        "concat_df[\"week_day\"] = concat_df[\"time\"].dt.weekday\n",
        "concat_df[\"day\"] = concat_df[\"time\"].dt.day\n",
        "concat_df['month'] = concat_df[\"time\"].dt.month\n",
        "concat_df[\"hour\"] = concat_df[\"time\"].dt.hour\n",
        "\n",
        "# extracting features\n",
        "concat_df['up_of_month']=(concat_df['day']<=10).astype(int)\n",
        "concat_df['down_of_month']=(concat_df['day']>20).astype(int)\n",
        "concat_df['sin_day']=np.sin(2*np.pi*concat_df['day']/30)\n",
        "concat_df['cos_day']=np.cos(2*np.pi*concat_df['day']/30)\n",
        "\n",
        "concat_df['morning']=((concat_df['hour']>5)&(concat_df['hour']<=12)).astype(int)\n",
        "concat_df['afternoon']=((concat_df['hour']>12)&(concat_df['hour']<=19)).astype(int)\n",
        "concat_df['evening']=(1-concat_df['morning']-concat_df['afternoon']).astype(int)\n",
        "\n",
        "#  whether its thursday | friday or not\n",
        "concat_df['weekend'] = ((concat_df[\"week_day\"] == 4) | (concat_df[\"week_day\"] == 3)).astype(int)\n",
        "concat_df['time_slot'] = pd.cut(concat_df[\"hour\"], bins=[0, 6, 12, 18, 24], labels=[1, 2, 3, 4], right=False)\n",
        "concat_df['peak_load'] = ((concat_df[\"hour\"] >= 11) & (concat_df[\"hour\"] <= 15)).astype(int)\n",
        "\n",
        "concat_df['spring']=((concat_df['month']>=3)&(concat_df['month']<=5)).astype(int)\n",
        "concat_df['summer']=((concat_df['month']>=6)&(concat_df['month']<=8)).astype(int)\n",
        "concat_df['fall']=((concat_df['month']>=9)&(concat_df['month']<=11)).astype(int)\n",
        "concat_df['winter']=((concat_df['month']==12)&(concat_df['month']<=2)).astype(int)\n",
        "\n",
        "# adding the mean of the past 4 \"values\" for each row\n",
        "previous_four_mean = np.array(concat_df[\"values\"][0:4].values).astype(np.float32)\n",
        "for i in range(4,len(concat_df)):\n",
        "  previous_four_mean = np.append(previous_four_mean, concat_df[\"values\"][i-4:i].values.mean()).astype(np.float32)\n",
        "concat_df[\"four_mean\"] = previous_four_mean\n",
        "\n",
        "# dropping non-informative columns\n",
        "concat_df.drop( [\"day\", \"week_day\", \"month\",\"hour\"] , axis = 1, inplace = True)\n",
        "# concat_df.drop(\"time\", axis=1 , inplace = True)"
      ],
      "metadata": {
        "id": "yKJavo3COpOG"
      },
      "execution_count": 9,
      "outputs": []
    },
    {
      "cell_type": "code",
      "source": [
        "# plotting temperatue vs power consumption\n",
        "import matplotlib.pyplot as plt\n",
        "\n",
        "unique_temps = np.unique(concat_df['temp'])\n",
        "# Plotting\n",
        "plt.bar(unique_temps, concat_df.groupby('temp')['values'].mean())\n",
        "plt.xlabel('Temperature')\n",
        "plt.ylabel('Mean Values')\n",
        "plt.title('Mean power consumption vs Temperature')\n",
        "plt.show()"
      ],
      "metadata": {
        "colab": {
          "base_uri": "https://localhost:8080/",
          "height": 472
        },
        "id": "oSgxdJ5p6Y3H",
        "outputId": "c54abd37-2e8a-45f3-eaa9-330b9a3f65d9"
      },
      "execution_count": 10,
      "outputs": [
        {
          "output_type": "display_data",
          "data": {
            "text/plain": [
              "<Figure size 640x480 with 1 Axes>"
            ],
            "image/png": "[encoded data removed]"
          },
          "metadata": {}
        }
      ]
    },
    {
      "cell_type": "code",
      "source": [
        "# Plotting\n",
        "plt.figure(figsize=(12, 6))\n",
        "plt.plot(concat_df['time'], concat_df['values'], label='Time Series Data', marker='o', linestyle='-', color='b')\n",
        "\n",
        "plt.title('Time Series Plot')\n",
        "plt.xlabel('Time')\n",
        "plt.ylabel('Value')\n",
        "plt.legend()\n",
        "plt.grid(True)\n",
        "plt.show()"
      ],
      "metadata": {
        "id": "G6182NkBhJRJ"
      },
      "execution_count": null,
      "outputs": []
    },
    {
      "cell_type": "code",
      "source": [
        "# normalizing the value and mean columns\n",
        "# Normalizing using the Standard Deviation Normalization method\n",
        "concat_df_value_mean = concat_df[\"values\"].mean()\n",
        "concat_df_value_std = concat_df[\"values\"].std()\n",
        "concat_df.loc[:, \"values\"] = (concat_df[\"values\"] - concat_df_value_mean) / concat_df_value_std\n",
        "\n",
        "concat_df_four_mean_mean = concat_df[\"four_mean\"].mean()\n",
        "concat_df_four_mean_std = concat_df[\"four_mean\"].std()\n",
        "concat_df.loc[:, \"four_mean\"] = (concat_df[\"four_mean\"] - concat_df_four_mean_mean) / concat_df_four_mean_std\n",
        "\n",
        "# changed the \"values\" columns dtype to float\n",
        "concat_df[\"values\"] = pd.to_numeric(concat_df['values'], errors='coerce').astype(float)"
      ],
      "metadata": {
        "id": "vqpr46G98us2"
      },
      "execution_count": 11,
      "outputs": []
    },
    {
      "cell_type": "code",
      "source": [
        "# adding 3 more features, which are the values of three previous hours\n",
        "concat_df['one_hour_ago'] = concat_df['values'].shift(1)\n",
        "concat_df['two_hours_ago'] = concat_df['values'].shift(2)\n",
        "concat_df['three_hours_ago'] = concat_df['values'].shift(3)\n",
        "\n",
        "columns_to_fill = ['one_hour_ago', 'two_hours_ago', 'three_hours_ago']\n",
        "concat_df[columns_to_fill] = concat_df[columns_to_fill].fillna(method='bfill')"
      ],
      "metadata": {
        "id": "iym8ZXApLZcr"
      },
      "execution_count": 12,
      "outputs": []
    },
    {
      "cell_type": "markdown",
      "source": [
        "# building Model\n"
      ],
      "metadata": {
        "id": "gRo_OOfzRgZC"
      }
    },
    {
      "cell_type": "code",
      "source": [
        "from sklearn.model_selection import KFold #Import the k-fold cross validation function in the machine learning library\n",
        "import lightgbm as lgb\n",
        "from bayes_opt import BayesianOptimization\n",
        "from sklearn.model_selection import train_test_split\n",
        "from sklearn.metrics import mean_squared_error\n",
        "from sklearn.model_selection import KFold"
      ],
      "metadata": {
        "id": "omhFeuRyRkCH"
      },
      "execution_count": 13,
      "outputs": []
    },
    {
      "cell_type": "code",
      "source": [
        "concat_df.columns"
      ],
      "metadata": {
        "colab": {
          "base_uri": "https://localhost:8080/"
        },
        "id": "B4h-wk_YTGEm",
        "outputId": "0ee770a4-854d-4df6-d3a5-383e1d89b996"
      },
      "execution_count": 26,
      "outputs": [
        {
          "output_type": "execute_result",
          "data": {
            "text/plain": [
              "Index(['values', 'temp', 'up_of_month', 'down_of_month', 'sin_day', 'cos_day',\n",
              "       'morning', 'afternoon', 'evening', 'weekend', 'time_slot', 'peak_load',\n",
              "       'spring', 'summer', 'fall', 'winter', 'four_mean', 'one_hour_ago',\n",
              "       'two_hours_ago', 'three_hours_ago'],\n",
              "      dtype='object')"
            ]
          },
          "metadata": {},
          "execution_count": 26
        }
      ]
    },
    {
      "cell_type": "markdown",
      "source": [
        "### hyper parametere tuning"
      ],
      "metadata": {
        "id": "pfs_zCKpYDiJ"
      }
    },
    {
      "cell_type": "code",
      "source": [
        "import lightgbm as lgb\n",
        "import numpy as np\n",
        "import pandas as pd\n",
        "from sklearn.model_selection import train_test_split, KFold\n",
        "from sklearn.metrics import mean_squared_error\n",
        "from bayes_opt import BayesianOptimization\n",
        "\n",
        "# Assuming you have a DataFrame called concat_df with a column 'values'\n",
        "# Drop any other columns that are not features or the target variable\n",
        "features = concat_df.drop(columns=['values',axis =1])\n",
        "target = concat_df['values']\n",
        "\n",
        "# Split the data into training and testing sets\n",
        "X_train, X_test, y_train, y_test = train_test_split(features, target, test_size=0.2, random_state=42)\n",
        "\n",
        "# Define the objective function for Bayesian Optimization\n",
        "def lgbm_cv(num_leaves, learning_rate, n_estimators, feature_fraction, bagging_fraction, bagging_freq, min_child_samples):\n",
        "    params = {\n",
        "        'objective': 'regression',\n",
        "        'num_leaves': int(num_leaves),\n",
        "        'learning_rate': learning_rate,\n",
        "        'n_estimators': int(n_estimators),\n",
        "        'feature_fraction': max(min(feature_fraction, 1), 0),\n",
        "        'bagging_fraction': max(min(bagging_fraction, 1), 0),\n",
        "        'bagging_freq': int(bagging_freq),\n",
        "        'min_child_samples': int(min_child_samples),\n",
        "        'metric': 'rmse',\n",
        "        'verbosity': -1,\n",
        "        'boosting_type': 'gbdt'\n",
        "    }\n",
        "\n",
        "    # Perform K-Fold cross-validation on the training set\n",
        "    kf = KFold(n_splits=5, shuffle=True, random_state=42)\n",
        "    rmse_scores = []\n",
        "\n",
        "    for train_index, val_index in kf.split(X_train):\n",
        "        X_train_kf, X_val_kf = X_train.iloc[train_index], X_train.iloc[val_index]\n",
        "        y_train_kf, y_val_kf = y_train.iloc[train_index], y_train.iloc[val_index]\n",
        "\n",
        "        model = lgb.LGBMRegressor(**params)\n",
        "        model.fit(X_train_kf, y_train_kf)\n",
        "\n",
        "        # Predict on the validation set and calculate RMSE\n",
        "        y_pred = model.predict(X_val_kf)\n",
        "        rmse = np.sqrt(mean_squared_error(y_val_kf, y_pred))\n",
        "        rmse_scores.append(rmse)\n",
        "\n",
        "    # Return the average RMSE across folds\n",
        "    return -np.mean(rmse_scores)\n",
        "\n",
        "# Define the parameter space for Bayesian Optimization\n",
        "pbounds = {\n",
        "    'num_leaves': (5, 50),\n",
        "    'learning_rate': (0.01, 0.3),\n",
        "    'n_estimators': (50, 200),\n",
        "    'feature_fraction': (0.1, 0.9),\n",
        "    'bagging_fraction': (0.1, 0.9),\n",
        "    'bagging_freq': (1, 10),\n",
        "    'min_child_samples': (5, 30)\n",
        "}\n",
        "\n",
        "# Initialize Bayesian Optimization\n",
        "optimizer = BayesianOptimization(\n",
        "    f=lgbm_cv,\n",
        "    pbounds=pbounds,\n",
        "    random_state=42,\n",
        ")\n",
        "\n",
        "# Run Bayesian Optimization\n",
        "optimizer.maximize(init_points=10, n_iter=30)\n",
        "\n",
        "# Get the best hyperparameters\n",
        "best_params = optimizer.max['params']\n",
        "best_params['num_leaves'] = int(best_params['num_leaves'])\n",
        "best_params['n_estimators'] = int(best_params['n_estimators'])\n",
        "best_params['bagging_freq'] = int(best_params['bagging_freq'])\n",
        "best_params['min_child_samples'] = int(best_params['min_child_samples'])"
      ],
      "metadata": {
        "id": "5LHyxo5NZUyz",
        "outputId": "db9f8b7a-e011-497b-8baf-4d47abe6d09f",
        "colab": {
          "base_uri": "https://localhost:8080/"
        }
      },
      "execution_count": 14,
      "outputs": [
        {
          "output_type": "stream",
          "name": "stdout",
          "text": [
            "|   iter    |  target   | baggin... | baggin... | featur... | learni... | min_ch... | n_esti... | num_le... |\n",
            "-------------------------------------------------------------------------------------------------------------\n",
            "| \u001b[0m1        \u001b[0m | \u001b[0m-0.154   \u001b[0m | \u001b[0m0.3996   \u001b[0m | \u001b[0m9.556    \u001b[0m | \u001b[0m0.6856   \u001b[0m | \u001b[0m0.1836   \u001b[0m | \u001b[0m8.9      \u001b[0m | \u001b[0m73.4     \u001b[0m | \u001b[0m7.614    \u001b[0m |\n",
            "| \u001b[0m2        \u001b[0m | \u001b[0m-0.1863  \u001b[0m | \u001b[0m0.7929   \u001b[0m | \u001b[0m6.41     \u001b[0m | \u001b[0m0.6665   \u001b[0m | \u001b[0m0.01597  \u001b[0m | \u001b[0m29.25    \u001b[0m | \u001b[0m174.9    \u001b[0m | \u001b[0m14.56    \u001b[0m |\n",
            "| \u001b[0m3        \u001b[0m | \u001b[0m-0.1587  \u001b[0m | \u001b[0m0.2455   \u001b[0m | \u001b[0m2.651    \u001b[0m | \u001b[0m0.3434   \u001b[0m | \u001b[0m0.1622   \u001b[0m | \u001b[0m15.8     \u001b[0m | \u001b[0m93.68    \u001b[0m | \u001b[0m32.53    \u001b[0m |\n",
            "| \u001b[95m4        \u001b[0m | \u001b[95m-0.1469  \u001b[0m | \u001b[95m0.2116   \u001b[0m | \u001b[95m3.629    \u001b[0m | \u001b[95m0.3931   \u001b[0m | \u001b[95m0.1423   \u001b[0m | \u001b[95m24.63    \u001b[0m | \u001b[95m79.95    \u001b[0m | \u001b[95m28.14    \u001b[0m |\n",
            "| \u001b[95m5        \u001b[0m | \u001b[95m-0.12    \u001b[0m | \u001b[95m0.5739   \u001b[0m | \u001b[95m1.418    \u001b[0m | \u001b[95m0.586    \u001b[0m | \u001b[95m0.05945  \u001b[0m | \u001b[95m6.626    \u001b[0m | \u001b[95m192.3    \u001b[0m | \u001b[95m48.45    \u001b[0m |\n",
            "| \u001b[0m6        \u001b[0m | \u001b[0m-0.1782  \u001b[0m | \u001b[0m0.7467   \u001b[0m | \u001b[0m3.742    \u001b[0m | \u001b[0m0.1781   \u001b[0m | \u001b[0m0.2084   \u001b[0m | \u001b[0m16.0     \u001b[0m | \u001b[0m68.31    \u001b[0m | \u001b[0m27.28    \u001b[0m |\n",
            "| \u001b[0m7        \u001b[0m | \u001b[0m-0.1677  \u001b[0m | \u001b[0m0.1275   \u001b[0m | \u001b[0m9.184    \u001b[0m | \u001b[0m0.307    \u001b[0m | \u001b[0m0.2021   \u001b[0m | \u001b[0m12.79    \u001b[0m | \u001b[0m128.0    \u001b[0m | \u001b[0m29.6     \u001b[0m |\n",
            "| \u001b[0m8        \u001b[0m | \u001b[0m-0.1323  \u001b[0m | \u001b[0m0.2479   \u001b[0m | \u001b[0m9.726    \u001b[0m | \u001b[0m0.7201   \u001b[0m | \u001b[0m0.2825   \u001b[0m | \u001b[0m27.37    \u001b[0m | \u001b[0m139.7    \u001b[0m | \u001b[0m46.48    \u001b[0m |\n",
            "| \u001b[0m9        \u001b[0m | \u001b[0m-0.3102  \u001b[0m | \u001b[0m0.1708   \u001b[0m | \u001b[0m2.764    \u001b[0m | \u001b[0m0.1362   \u001b[0m | \u001b[0m0.1043   \u001b[0m | \u001b[0m14.72    \u001b[0m | \u001b[0m90.7     \u001b[0m | \u001b[0m42.29    \u001b[0m |\n",
            "| \u001b[0m10       \u001b[0m | \u001b[0m-0.1554  \u001b[0m | \u001b[0m0.3854   \u001b[0m | \u001b[0m3.528    \u001b[0m | \u001b[0m0.5342   \u001b[0m | \u001b[0m0.05087  \u001b[0m | \u001b[0m25.05    \u001b[0m | \u001b[0m61.18    \u001b[0m | \u001b[0m49.41    \u001b[0m |\n",
            "| \u001b[0m11       \u001b[0m | \u001b[0m-0.1368  \u001b[0m | \u001b[0m0.1749   \u001b[0m | \u001b[0m4.553    \u001b[0m | \u001b[0m0.4825   \u001b[0m | \u001b[0m0.2049   \u001b[0m | \u001b[0m21.35    \u001b[0m | \u001b[0m186.0    \u001b[0m | \u001b[0m42.74    \u001b[0m |\n",
            "| \u001b[0m12       \u001b[0m | \u001b[0m-0.133   \u001b[0m | \u001b[0m0.1515   \u001b[0m | \u001b[0m1.981    \u001b[0m | \u001b[0m0.8171   \u001b[0m | \u001b[0m0.2565   \u001b[0m | \u001b[0m23.8     \u001b[0m | \u001b[0m91.84    \u001b[0m | \u001b[0m27.4     \u001b[0m |\n",
            "| \u001b[0m13       \u001b[0m | \u001b[0m-0.1208  \u001b[0m | \u001b[0m0.4406   \u001b[0m | \u001b[0m4.067    \u001b[0m | \u001b[0m0.8239   \u001b[0m | \u001b[0m0.147    \u001b[0m | \u001b[0m28.57    \u001b[0m | \u001b[0m94.59    \u001b[0m | \u001b[0m35.62    \u001b[0m |\n",
            "| \u001b[95m14       \u001b[0m | \u001b[95m-0.1159  \u001b[0m | \u001b[95m0.4031   \u001b[0m | \u001b[95m2.597    \u001b[0m | \u001b[95m0.8862   \u001b[0m | \u001b[95m0.126    \u001b[0m | \u001b[95m6.144    \u001b[0m | \u001b[95m191.5    \u001b[0m | \u001b[95m48.54    \u001b[0m |\n",
            "| \u001b[0m15       \u001b[0m | \u001b[0m-0.1587  \u001b[0m | \u001b[0m0.1015   \u001b[0m | \u001b[0m6.93     \u001b[0m | \u001b[0m0.8972   \u001b[0m | \u001b[0m0.2981   \u001b[0m | \u001b[0m13.23    \u001b[0m | \u001b[0m190.1    \u001b[0m | \u001b[0m49.18    \u001b[0m |\n",
            "| \u001b[0m16       \u001b[0m | \u001b[0m-0.1205  \u001b[0m | \u001b[0m0.7225   \u001b[0m | \u001b[0m6.096    \u001b[0m | \u001b[0m0.8456   \u001b[0m | \u001b[0m0.145    \u001b[0m | \u001b[0m30.0     \u001b[0m | \u001b[0m98.59    \u001b[0m | \u001b[0m28.95    \u001b[0m |\n",
            "| \u001b[0m17       \u001b[0m | \u001b[0m-0.2053  \u001b[0m | \u001b[0m0.1013   \u001b[0m | \u001b[0m1.0      \u001b[0m | \u001b[0m0.9      \u001b[0m | \u001b[0m0.01028  \u001b[0m | \u001b[0m5.0      \u001b[0m | \u001b[0m186.2    \u001b[0m | \u001b[0m41.68    \u001b[0m |\n",
            "| \u001b[0m18       \u001b[0m | \u001b[0m-0.422   \u001b[0m | \u001b[0m0.9      \u001b[0m | \u001b[0m8.05     \u001b[0m | \u001b[0m0.9      \u001b[0m | \u001b[0m0.01038  \u001b[0m | \u001b[0m30.0     \u001b[0m | \u001b[0m91.19    \u001b[0m | \u001b[0m30.16    \u001b[0m |\n",
            "| \u001b[0m19       \u001b[0m | \u001b[0m-0.3492  \u001b[0m | \u001b[0m0.2616   \u001b[0m | \u001b[0m4.056    \u001b[0m | \u001b[0m0.1128   \u001b[0m | \u001b[0m0.05214  \u001b[0m | \u001b[0m27.25    \u001b[0m | \u001b[0m100.3    \u001b[0m | \u001b[0m31.02    \u001b[0m |\n",
            "| \u001b[0m20       \u001b[0m | \u001b[0m-0.123   \u001b[0m | \u001b[0m0.8849   \u001b[0m | \u001b[0m3.95     \u001b[0m | \u001b[0m0.6202   \u001b[0m | \u001b[0m0.2621   \u001b[0m | \u001b[0m27.65    \u001b[0m | \u001b[0m92.17    \u001b[0m | \u001b[0m37.28    \u001b[0m |\n",
            "| \u001b[0m21       \u001b[0m | \u001b[0m-0.1562  \u001b[0m | \u001b[0m0.8406   \u001b[0m | \u001b[0m1.896    \u001b[0m | \u001b[0m0.3488   \u001b[0m | \u001b[0m0.09056  \u001b[0m | \u001b[0m25.75    \u001b[0m | \u001b[0m93.85    \u001b[0m | \u001b[0m36.09    \u001b[0m |\n",
            "| \u001b[0m22       \u001b[0m | \u001b[0m-0.2199  \u001b[0m | \u001b[0m0.2197   \u001b[0m | \u001b[0m1.915    \u001b[0m | \u001b[0m0.2702   \u001b[0m | \u001b[0m0.01294  \u001b[0m | \u001b[0m9.406    \u001b[0m | \u001b[0m191.4    \u001b[0m | \u001b[0m48.26    \u001b[0m |\n",
            "| \u001b[0m23       \u001b[0m | \u001b[0m-0.2564  \u001b[0m | \u001b[0m0.5298   \u001b[0m | \u001b[0m5.842    \u001b[0m | \u001b[0m0.1137   \u001b[0m | \u001b[0m0.2288   \u001b[0m | \u001b[0m29.09    \u001b[0m | \u001b[0m94.22    \u001b[0m | \u001b[0m37.39    \u001b[0m |\n",
            "| \u001b[0m24       \u001b[0m | \u001b[0m-0.1197  \u001b[0m | \u001b[0m0.413    \u001b[0m | \u001b[0m1.778    \u001b[0m | \u001b[0m0.8787   \u001b[0m | \u001b[0m0.2521   \u001b[0m | \u001b[0m29.29    \u001b[0m | \u001b[0m93.36    \u001b[0m | \u001b[0m35.87    \u001b[0m |\n",
            "| \u001b[0m25       \u001b[0m | \u001b[0m-0.2465  \u001b[0m | \u001b[0m0.7481   \u001b[0m | \u001b[0m3.458    \u001b[0m | \u001b[0m0.1286   \u001b[0m | \u001b[0m0.2893   \u001b[0m | \u001b[0m27.3     \u001b[0m | \u001b[0m91.66    \u001b[0m | \u001b[0m34.79    \u001b[0m |\n",
            "| \u001b[0m26       \u001b[0m | \u001b[0m-0.1589  \u001b[0m | \u001b[0m0.3727   \u001b[0m | \u001b[0m1.847    \u001b[0m | \u001b[0m0.3302   \u001b[0m | \u001b[0m0.2914   \u001b[0m | \u001b[0m29.49    \u001b[0m | \u001b[0m92.4     \u001b[0m | \u001b[0m37.83    \u001b[0m |\n",
            "| \u001b[0m27       \u001b[0m | \u001b[0m-0.1185  \u001b[0m | \u001b[0m0.7819   \u001b[0m | \u001b[0m2.484    \u001b[0m | \u001b[0m0.894    \u001b[0m | \u001b[0m0.1019   \u001b[0m | \u001b[0m29.25    \u001b[0m | \u001b[0m95.79    \u001b[0m | \u001b[0m34.4     \u001b[0m |\n",
            "| \u001b[0m28       \u001b[0m | \u001b[0m-0.1338  \u001b[0m | \u001b[0m0.7225   \u001b[0m | \u001b[0m2.48     \u001b[0m | \u001b[0m0.4061   \u001b[0m | \u001b[0m0.2666   \u001b[0m | \u001b[0m27.25    \u001b[0m | \u001b[0m94.49    \u001b[0m | \u001b[0m37.23    \u001b[0m |\n",
            "| \u001b[0m29       \u001b[0m | \u001b[0m-0.1279  \u001b[0m | \u001b[0m0.7993   \u001b[0m | \u001b[0m4.035    \u001b[0m | \u001b[0m0.4051   \u001b[0m | \u001b[0m0.1051   \u001b[0m | \u001b[0m5.416    \u001b[0m | \u001b[0m193.7    \u001b[0m | \u001b[0m49.6     \u001b[0m |\n",
            "| \u001b[0m30       \u001b[0m | \u001b[0m-0.1598  \u001b[0m | \u001b[0m0.7      \u001b[0m | \u001b[0m1.543    \u001b[0m | \u001b[0m0.1843   \u001b[0m | \u001b[0m0.2529   \u001b[0m | \u001b[0m6.653    \u001b[0m | \u001b[0m195.5    \u001b[0m | \u001b[0m47.9     \u001b[0m |\n",
            "| \u001b[0m31       \u001b[0m | \u001b[0m-0.1284  \u001b[0m | \u001b[0m0.4559   \u001b[0m | \u001b[0m3.897    \u001b[0m | \u001b[0m0.5798   \u001b[0m | \u001b[0m0.1355   \u001b[0m | \u001b[0m27.1     \u001b[0m | \u001b[0m91.2     \u001b[0m | \u001b[0m40.11    \u001b[0m |\n",
            "| \u001b[0m32       \u001b[0m | \u001b[0m-0.1488  \u001b[0m | \u001b[0m0.4207   \u001b[0m | \u001b[0m5.034    \u001b[0m | \u001b[0m0.3299   \u001b[0m | \u001b[0m0.1718   \u001b[0m | \u001b[0m5.193    \u001b[0m | \u001b[0m192.7    \u001b[0m | \u001b[0m47.6     \u001b[0m |\n",
            "| \u001b[0m33       \u001b[0m | \u001b[0m-0.1162  \u001b[0m | \u001b[0m0.9      \u001b[0m | \u001b[0m3.734    \u001b[0m | \u001b[0m0.9      \u001b[0m | \u001b[0m0.3      \u001b[0m | \u001b[0m24.78    \u001b[0m | \u001b[0m92.54    \u001b[0m | \u001b[0m38.92    \u001b[0m |\n",
            "| \u001b[0m34       \u001b[0m | \u001b[0m-0.1224  \u001b[0m | \u001b[0m0.4889   \u001b[0m | \u001b[0m6.001    \u001b[0m | \u001b[0m0.7895   \u001b[0m | \u001b[0m0.2707   \u001b[0m | \u001b[0m24.28    \u001b[0m | \u001b[0m92.0     \u001b[0m | \u001b[0m42.03    \u001b[0m |\n",
            "| \u001b[95m35       \u001b[0m | \u001b[95m-0.115   \u001b[0m | \u001b[95m0.9      \u001b[0m | \u001b[95m2.64     \u001b[0m | \u001b[95m0.9      \u001b[0m | \u001b[95m0.1244   \u001b[0m | \u001b[95m24.66    \u001b[0m | \u001b[95m92.97    \u001b[0m | \u001b[95m42.17    \u001b[0m |\n",
            "| \u001b[0m36       \u001b[0m | \u001b[0m-0.1347  \u001b[0m | \u001b[0m0.1792   \u001b[0m | \u001b[0m2.409    \u001b[0m | \u001b[0m0.7795   \u001b[0m | \u001b[0m0.04672  \u001b[0m | \u001b[0m24.37    \u001b[0m | \u001b[0m90.3     \u001b[0m | \u001b[0m40.22    \u001b[0m |\n",
            "| \u001b[0m37       \u001b[0m | \u001b[0m-0.1154  \u001b[0m | \u001b[0m0.9      \u001b[0m | \u001b[0m3.769    \u001b[0m | \u001b[0m0.9      \u001b[0m | \u001b[0m0.3      \u001b[0m | \u001b[0m25.46    \u001b[0m | \u001b[0m90.41    \u001b[0m | \u001b[0m44.39    \u001b[0m |\n",
            "| \u001b[0m38       \u001b[0m | \u001b[0m-0.2625  \u001b[0m | \u001b[0m0.1      \u001b[0m | \u001b[0m4.549    \u001b[0m | \u001b[0m0.1      \u001b[0m | \u001b[0m0.3      \u001b[0m | \u001b[0m25.21    \u001b[0m | \u001b[0m93.7     \u001b[0m | \u001b[0m45.25    \u001b[0m |\n",
            "| \u001b[0m39       \u001b[0m | \u001b[0m-0.1261  \u001b[0m | \u001b[0m0.2052   \u001b[0m | \u001b[0m5.633    \u001b[0m | \u001b[0m0.8712   \u001b[0m | \u001b[0m0.1029   \u001b[0m | \u001b[0m25.91    \u001b[0m | \u001b[0m88.17    \u001b[0m | \u001b[0m43.65    \u001b[0m |\n",
            "| \u001b[0m40       \u001b[0m | \u001b[0m-0.1293  \u001b[0m | \u001b[0m0.7966   \u001b[0m | \u001b[0m5.282    \u001b[0m | \u001b[0m0.4729   \u001b[0m | \u001b[0m0.1252   \u001b[0m | \u001b[0m24.96    \u001b[0m | \u001b[0m88.84    \u001b[0m | \u001b[0m39.81    \u001b[0m |\n",
            "=============================================================================================================\n"
          ]
        }
      ]
    },
    {
      "cell_type": "code",
      "source": [
        "best_params"
      ],
      "metadata": {
        "id": "ma-G1ZrWZ9_O",
        "outputId": "4707a317-a4e4-4e1d-e154-9dcb75284c09",
        "colab": {
          "base_uri": "https://localhost:8080/"
        }
      },
      "execution_count": 15,
      "outputs": [
        {
          "output_type": "execute_result",
          "data": {
            "text/plain": [
              "{'bagging_fraction': 0.9,\n",
              " 'bagging_freq': 2,\n",
              " 'feature_fraction': 0.9,\n",
              " 'learning_rate': 0.12442962926934377,\n",
              " 'min_child_samples': 24,\n",
              " 'n_estimators': 92,\n",
              " 'num_leaves': 42}"
            ]
          },
          "metadata": {},
          "execution_count": 15
        }
      ]
    },
    {
      "cell_type": "code",
      "source": [
        "# Train the final model with the best hyperparameters using the entire training set\n",
        "final_model = lgb.LGBMRegressor(**best_params)\n",
        "final_model.fit(X_train, y_train)\n",
        "\n",
        "# Evaluate the final model on the test set\n",
        "y_pred_test = final_model.predict(X_test)\n",
        "rmse_test = np.sqrt(mean_squared_error(y_test, y_pred_test))\n",
        "print(f\"Final model RMSE on the test set: {rmse_test}\")"
      ],
      "metadata": {
        "id": "hZU_7Hg5Zljj",
        "outputId": "7d4e59e7-32b9-4d1c-e47c-660c7dc12140",
        "colab": {
          "base_uri": "https://localhost:8080/"
        }
      },
      "execution_count": 17,
      "outputs": [
        {
          "output_type": "stream",
          "name": "stdout",
          "text": [
            "[LightGBM] [Warning] feature_fraction is set=0.9, colsample_bytree=1.0 will be ignored. Current value: feature_fraction=0.9\n",
            "[LightGBM] [Warning] bagging_fraction is set=0.9, subsample=1.0 will be ignored. Current value: bagging_fraction=0.9\n",
            "[LightGBM] [Warning] bagging_freq is set=2, subsample_freq=0 will be ignored. Current value: bagging_freq=2\n",
            "[LightGBM] [Warning] feature_fraction is set=0.9, colsample_bytree=1.0 will be ignored. Current value: feature_fraction=0.9\n",
            "[LightGBM] [Warning] bagging_fraction is set=0.9, subsample=1.0 will be ignored. Current value: bagging_fraction=0.9\n",
            "[LightGBM] [Warning] bagging_freq is set=2, subsample_freq=0 will be ignored. Current value: bagging_freq=2\n",
            "[LightGBM] [Warning] Auto-choosing row-wise multi-threading, the overhead of testing was 0.001292 seconds.\n",
            "You can set `force_row_wise=true` to remove the overhead.\n",
            "And if memory is not enough, you can set `force_col_wise=true`.\n",
            "[LightGBM] [Info] Total Bins 1347\n",
            "[LightGBM] [Info] Number of data points in the train set: 14015, number of used features: 18\n",
            "[LightGBM] [Info] Start training from score 0.001187\n",
            "[LightGBM] [Warning] feature_fraction is set=0.9, colsample_bytree=1.0 will be ignored. Current value: feature_fraction=0.9\n",
            "[LightGBM] [Warning] bagging_fraction is set=0.9, subsample=1.0 will be ignored. Current value: bagging_fraction=0.9\n",
            "[LightGBM] [Warning] bagging_freq is set=2, subsample_freq=0 will be ignored. Current value: bagging_freq=2\n",
            "Final model RMSE on the test set: 0.08919602415744911\n"
          ]
        }
      ]
    },
    {
      "cell_type": "code",
      "source": [
        "denormalized_predict_values = (y_pred_test*concat_df_value_std) +concat_df_value_mean\n",
        "denormalized_target_values = (y_test*concat_df_value_std) +concat_df_value_mean"
      ],
      "metadata": {
        "id": "KlbZrQU9eKJf"
      },
      "execution_count": 25,
      "outputs": []
    },
    {
      "cell_type": "code",
      "source": [
        "denormalized_predict_values[10:20]"
      ],
      "metadata": {
        "id": "d51vzp-FaWWi",
        "outputId": "d5c7536d-1880-48f0-875d-1318fb1b2b9b",
        "colab": {
          "base_uri": "https://localhost:8080/"
        }
      },
      "execution_count": 26,
      "outputs": [
        {
          "output_type": "execute_result",
          "data": {
            "text/plain": [
              "array([1042.56066655, 1079.227034  , 1181.0114068 ,  784.43893514,\n",
              "        797.44152246,  691.58358336, 1016.86081946,  980.03643906,\n",
              "       1081.21302518,  851.70726204])"
            ]
          },
          "metadata": {},
          "execution_count": 26
        }
      ]
    },
    {
      "cell_type": "code",
      "source": [
        "denormalized_target_values[10:20]"
      ],
      "metadata": {
        "id": "ukCXOQY5ae1a",
        "outputId": "731b9dcb-7895-4d2c-d9a4-871386d6e24b",
        "colab": {
          "base_uri": "https://localhost:8080/"
        }
      },
      "execution_count": 27,
      "outputs": [
        {
          "output_type": "execute_result",
          "data": {
            "text/plain": [
              "9619     1085.847681\n",
              "14176    1081.452896\n",
              "16700    1179.721671\n",
              "7207      787.178439\n",
              "7231      811.285008\n",
              "6627      714.855469\n",
              "2281      987.646722\n",
              "14230     969.468902\n",
              "3669     1055.019181\n",
              "6504      857.000970\n",
              "Name: values, dtype: float64"
            ]
          },
          "metadata": {},
          "execution_count": 27
        }
      ]
    },
    {
      "cell_type": "code",
      "source": [
        "import matplotlib.pyplot as plt\n",
        "\n",
        "# Plotting the actual vs predicted values on the test set\n",
        "plt.figure(figsize=(10, 6))\n",
        "\n",
        "# Plot the actual values\n",
        "plt.scatter(denormalized_target_values, denormalized_predict_values, color='blue', label='Actual vs Predicted')\n",
        "\n",
        "# Plot the line of equality (perfect prediction)\n",
        "plt.plot([min(denormalized_target_values), max(denormalized_target_values)], [min(denormalized_target_values), max(denormalized_target_values)], linestyle='--', color='red', label='Perfect Prediction')\n",
        "\n",
        "plt.title('Actual vs Predicted Values')\n",
        "plt.xlabel('Actual Values')\n",
        "plt.ylabel('Predicted Values')\n",
        "plt.legend()\n",
        "plt.show()\n"
      ],
      "metadata": {
        "id": "GyVtOV-jaNYc",
        "outputId": "2d619f85-6744-46dd-f2b8-0d0741e72171",
        "colab": {
          "base_uri": "https://localhost:8080/",
          "height": 564
        }
      },
      "execution_count": 28,
      "outputs": [
        {
          "output_type": "display_data",
          "data": {
            "text/plain": [
              "<Figure size 1000x600 with 1 Axes>"
            ],
            "image/png": "[encoded data removed]"
          },
          "metadata": {}
        }
      ]
    },
    {
      "cell_type": "code",
      "source": [
        "import matplotlib.pyplot as plt\n",
        "\n",
        "# Plotting the actual vs predicted values on the test set\n",
        "plt.figure(figsize=(10, 6))\n",
        "\n",
        "# Plot the actual values in blue\n",
        "plt.scatter(denormalized_target_values, denormalized_predict_values, color='blue', label='Actual')\n",
        "\n",
        "# Plot the predicted values in green\n",
        "plt.scatter(denormalized_target_values, denormalized_target_values, color='red', label='Predicted')\n",
        "\n",
        "plt.title('Actual vs Predicted Values')\n",
        "plt.xlabel('Actual Values')\n",
        "plt.ylabel('Predicted Values')\n",
        "plt.legend()\n",
        "plt.show()\n"
      ],
      "metadata": {
        "id": "3bVo-ZFsfXhj",
        "outputId": "5551f09b-4664-4bd0-e188-2dd619467981",
        "colab": {
          "base_uri": "https://localhost:8080/",
          "height": 564
        }
      },
      "execution_count": 30,
      "outputs": [
        {
          "output_type": "display_data",
          "data": {
            "text/plain": [
              "<Figure size 1000x600 with 1 Axes>"
            ],
            "image/png": "[encoded data removed]"
          },
          "metadata": {}
        }
      ]
    }
  ]
}